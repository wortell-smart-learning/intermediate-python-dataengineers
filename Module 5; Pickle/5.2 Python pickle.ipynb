{
 "cells": [
  {
   "cell_type": "markdown",
   "id": "51011540",
   "metadata": {},
   "source": [
    "# Section 2: The Python *pickle* module\n",
    "The *pickle* module is part of the standard library that comes with Python. As mentioned earlier, it is used to easily serialize and deserialize Python objects. Let's take a look at the most important methods the module has to offer!\n",
    "\n",
    "For more information, please refer to the [official pickle documentation](https://docs.python.org/3/library/pickle.html)\n",
    "\n",
    "Let's explore the functionality in code!"
   ]
  },
  {
   "cell_type": "code",
   "execution_count": null,
   "id": "7141d3f9",
   "metadata": {},
   "outputs": [],
   "source": [
    "import pickle"
   ]
  },
  {
   "cell_type": "markdown",
   "id": "a4e21ef2",
   "metadata": {},
   "source": [
    "##### ASSIGNMENT 4: create a Python object and save it as a pickle file with the dump() method."
   ]
  },
  {
   "cell_type": "code",
   "execution_count": null,
   "id": "10139c88",
   "metadata": {},
   "outputs": [],
   "source": [
    "#### ADD YOUR CODE HERE"
   ]
  },
  {
   "cell_type": "markdown",
   "id": "fee844ed",
   "metadata": {},
   "source": [
    "##### ASSIGNMENT 5:  open the object you just created with load() method."
   ]
  },
  {
   "cell_type": "code",
   "execution_count": null,
   "id": "feafe688",
   "metadata": {},
   "outputs": [],
   "source": [
    "#### ADD YOUR CODE HERE"
   ]
  },
  {
   "cell_type": "markdown",
   "id": "1ae87268",
   "metadata": {},
   "source": [
    "##### ASSIGNMENT 6: load the pickle files that were already present in the folder and determine what kind of Python objects they are"
   ]
  },
  {
   "cell_type": "code",
   "execution_count": null,
   "id": "4c5952b9",
   "metadata": {},
   "outputs": [],
   "source": [
    "#### ADD YOUR CODE HERE"
   ]
  }
 ],
 "metadata": {
  "interpreter": {
   "hash": "15b20538a962554200a580dbac694884175b6fc3c353c551da694757f0ccb282"
  },
  "kernelspec": {
   "display_name": "Python 3 (ipykernel)",
   "language": "python",
   "name": "python3"
  },
  "language_info": {
   "codemirror_mode": {
    "name": "ipython",
    "version": 3
   },
   "file_extension": ".py",
   "mimetype": "text/x-python",
   "name": "python",
   "nbconvert_exporter": "python",
   "pygments_lexer": "ipython3",
   "version": "3.9.4"
  }
 },
 "nbformat": 4,
 "nbformat_minor": 5
}
