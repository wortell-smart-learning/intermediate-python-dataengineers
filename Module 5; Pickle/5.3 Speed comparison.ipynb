{
 "cells": [
  {
   "cell_type": "markdown",
   "id": "5ac2ad78",
   "metadata": {},
   "source": [
    "# Section 3: speed comparison\n",
    "\n",
    "### **Theory - speed and file size of pickle files**\n",
    "As a Data Engineer, you often want the most efficient solution to the challenges that appear during your work. When working with small datasets, different approaches might seem interchangeable. However, working with larger datasets, you will notice differences in the runtime speed of code.\n",
    "\n",
    "In this section, we will explore how fast writing and reading pickle files are when working with tabular data compared to using .csv files. The pandas libary will be used to create a large dummy dataset, save it to disk and load it again. Since the focus of this module is Pickle, there will not be in-depth info of pandas, but it is always possible to check out the [Pandas Documentation](https://pandas.pydata.org/docs/). \n",
    "\n",
    "Furthermore, we will use a builtin magic function of jupyter called *%%time* that will show the time it took to run a certain cell. \n",
    "\n",
    "\n"
   ]
  },
  {
   "cell_type": "markdown",
   "id": "9ea6c79e",
   "metadata": {},
   "source": [
    "##### ASSIGNMENT 7: create a dummy dataset of 5 columns and 2 million rows"
   ]
  },
  {
   "cell_type": "code",
   "execution_count": null,
   "id": "0c81249f",
   "metadata": {},
   "outputs": [],
   "source": [
    "np.random.seed = 42\n",
    "df_size = 5_000_000\n",
    "\n",
    "df = pd.DataFrame({'a': np.random.rand(df_size),\n",
    "                   'b': np.random.rand(df_size),\n",
    "                   'c': np.random.rand(df_size),\n",
    "                   'd': np.random.rand(df_size),\n",
    "                   'e': np.random.rand(df_size)})\n",
    "\n",
    "display(df)"
   ]
  },
  {
   "cell_type": "markdown",
   "id": "84b09c93",
   "metadata": {},
   "source": [
    "##### ASSIGNMENT 8: save the DataFrame as a .csv file using the .to_csv() function of Pandas"
   ]
  },
  {
   "cell_type": "code",
   "execution_count": null,
   "id": "ef70057c",
   "metadata": {},
   "outputs": [],
   "source": [
    "%%time\n",
    "#### ADD YOUR CODE HERE ####\n"
   ]
  },
  {
   "cell_type": "markdown",
   "id": "1da63b9c",
   "metadata": {},
   "source": [
    "##### ASSIGNMENT 9: load the created .csv file as a DataFrame using the pandas.read_csv() funcion of Pandas"
   ]
  },
  {
   "cell_type": "code",
   "execution_count": null,
   "id": "4d93b3cf",
   "metadata": {},
   "outputs": [],
   "source": [
    "%%time\n",
    "#### ADD YOUR CODE HERE ####\n"
   ]
  },
  {
   "cell_type": "markdown",
   "id": "b27ebb0c",
   "metadata": {},
   "source": [
    "##### ASSIGNMENT 10: now save the original DataFrame we created as a pickle file"
   ]
  },
  {
   "cell_type": "code",
   "execution_count": null,
   "id": "22059f56",
   "metadata": {},
   "outputs": [],
   "source": [
    "%%time\n",
    "#### ADD YOUR CODE HERE ####\n"
   ]
  },
  {
   "cell_type": "markdown",
   "id": "9498ff1c",
   "metadata": {},
   "source": [
    "##### ASSIGNMENT 11: now deserialize pickle file containing the serialized DataFrame into a DataFrame "
   ]
  },
  {
   "cell_type": "code",
   "execution_count": null,
   "id": "bfc1111b",
   "metadata": {},
   "outputs": [],
   "source": [
    "%%time\n",
    "#### ADD YOUR CODE HERE ####\n"
   ]
  },
  {
   "cell_type": "markdown",
   "id": "ee61e883",
   "metadata": {},
   "source": [
    "##### ASSIGNMENT 12: Now print the file size of both the csv file and the pickle file you created.\n",
    "\n",
    "*Hint: the OS library has something for this called getsize()*"
   ]
  },
  {
   "cell_type": "code",
   "execution_count": null,
   "id": "dd1a11fd",
   "metadata": {},
   "outputs": [],
   "source": [
    "#### ADD YOUR CODE HERE ####\n"
   ]
  },
  {
   "cell_type": "markdown",
   "id": "789816fa",
   "metadata": {},
   "source": [
    "### **Theory - speed and file size of pickle files**\n",
    "As you can see Pickle is way more efficient to use as a temporary storage than .csv when it comes to tabular data.\n",
    "* it is much faster to read/write pickle files than csv files\n",
    "* the file size is also smaller for pickle files compared to csv files\n",
    "\n",
    "However, there are also downsides. Pickle creates files unreadable for humans, and cannot be loaded into programs like Excel. Therefore, always make sure if pickle is the right fit for the job!"
   ]
  }
 ],
 "metadata": {
  "interpreter": {
   "hash": "15b20538a962554200a580dbac694884175b6fc3c353c551da694757f0ccb282"
  },
  "kernelspec": {
   "display_name": "Python 3 (ipykernel)",
   "language": "python",
   "name": "python3"
  },
  "language_info": {
   "codemirror_mode": {
    "name": "ipython",
    "version": 3
   },
   "file_extension": ".py",
   "mimetype": "text/x-python",
   "name": "python",
   "nbconvert_exporter": "python",
   "pygments_lexer": "ipython3",
   "version": "3.9.4"
  }
 },
 "nbformat": 4,
 "nbformat_minor": 5
}
