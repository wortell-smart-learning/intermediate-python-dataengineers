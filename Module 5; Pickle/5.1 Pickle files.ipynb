{
 "cells": [
  {
   "cell_type": "markdown",
   "id": "d4005a29",
   "metadata": {},
   "source": [
    "# Module 5: Pickle\n",
    "\n",
    "### Introduction\n",
    "There are many different file types used in the data world. Main examples are .csv, .json and .xml, which are are easy to read and/or write, and are used extensively in multiple programming languages. However, sometimes you want to save a Python data object directly, such as a dictionary, list, tuple or even a fully trained machine learning algorithms created in Python. This is where the *pickle* module comes in.\n",
    "\n",
    "This module will give you an in-depth look on how to best use the *pickle* module to save and load Python data objects. The outline is:\n",
    "1. Pickle files basics\n",
    "2. The Python *pickle* module \n",
    "3. speed comparison of pickle files and other ways of saving data objects\n",
    "4. saving and loading fully trained machine learning algorithm \n",
    "\n",
    "Enjoy!"
   ]
  },
  {
   "cell_type": "code",
   "execution_count": null,
   "id": "55fbdd93",
   "metadata": {},
   "outputs": [],
   "source": [
    "# Import all the packages needed for section 1 to 3\n",
    "import os\n",
    "import pickle\n",
    "import numpy as np\n",
    "import pandas as pd"
   ]
  },
  {
   "cell_type": "markdown",
   "id": "9ab55d06",
   "metadata": {},
   "source": [
    "# Section 1: Pickle files\n",
    "\n",
    "Pickle is a very useful Python library. Pickle can be used to serialize Python object structures. Any object in Python can be pickled so that it can be saved on disk. So it's very specific to Python. This process of serializing Python object structures refers to the process of converting an object in the memory to a byte stream that can be stored as a binary file on disk. When we load it back to a Python program, this binary file can be de-serialized back to a Python object.\n",
    "\n",
    "Besides the fact that we can store Python objects, there is another advantage; its speed. Later in the module we'll focus a bit more on the speed of pickle, but let's look at an example below to get an idea.\n",
    "\n",
    "First, we'll have to create an object that we can store. Then, we'll look at the speed differences between Pandas and Pickle in storing this object."
   ]
  },
  {
   "cell_type": "code",
   "execution_count": null,
   "id": "76df35cf",
   "metadata": {},
   "outputs": [],
   "source": [
    "# Create a Pandas DataFrame to store.\n",
    "\n",
    "np.random.seed = 0\n",
    "df_size = 1_000_000\n",
    "\n",
    "df = pd.DataFrame({\n",
    "    'a': np.random.rand(df_size),\n",
    "    'b': np.random.rand(df_size),\n",
    "    'c': np.random.rand(df_size),\n",
    "    'd': np.random.rand(df_size),\n",
    "    'e': np.random.rand(df_size)\n",
    "})\n",
    "\n",
    "display(df)"
   ]
  },
  {
   "cell_type": "markdown",
   "id": "10b809a5",
   "metadata": {},
   "source": [
    "Let's store the Pandas DataFrame as a .csv file using the pandas library."
   ]
  },
  {
   "cell_type": "code",
   "execution_count": null,
   "id": "b9aff534",
   "metadata": {},
   "outputs": [],
   "source": [
    "%%time\n",
    "\n",
    "# Save the Pandas DataFrame as a .csv file.\n",
    "df.to_csv('data.csv', index=False)"
   ]
  },
  {
   "cell_type": "markdown",
   "id": "6c6228c4",
   "metadata": {},
   "source": [
    "Let's store the Pandas DataFrame as a pickle file using the pickle library."
   ]
  },
  {
   "cell_type": "code",
   "execution_count": null,
   "id": "3fa4e542",
   "metadata": {},
   "outputs": [],
   "source": [
    "%%time\n",
    "\n",
    "# Save the Pandas DataFrame as a pickle file.\n",
    "with open('dataframe.pickle', mode='wb') as file:\n",
    "    pickle.dump(df, file) "
   ]
  },
  {
   "cell_type": "markdown",
   "id": "c396443e",
   "metadata": {},
   "source": [
    "When you look at the time differences, there should be quite a difference. Pickle objects are very much faster to work with. Now that we have seen an example, we can take a look at the pickle library."
   ]
  },
  {
   "cell_type": "markdown",
   "id": "8379d275",
   "metadata": {},
   "source": [
    "In the folder you are currently working in, there are some pickled files saved already. Pickled files are saved as a binary file. Let's print all the files that are in the current folder to see them.\n",
    "\n",
    "##### ASSIGNMENT 1: print all pickle files in the directory of the notebook\n",
    "*Hint: use the skills learned in the file-system operations module*"
   ]
  },
  {
   "cell_type": "code",
   "execution_count": null,
   "id": "491ba9eb",
   "metadata": {},
   "outputs": [],
   "source": [
    "list_of_pickle_files = []\n",
    "\n",
    "#### ADD YOUR CODE HERE ####\n",
    "\n",
    "#### STOP ADDING CODE HERE ####\n",
    "\n",
    "print(list_of_pickle_files)"
   ]
  },
  {
   "cell_type": "markdown",
   "id": "5e99df01",
   "metadata": {},
   "source": [
    "### **Theory: which file extensions are used for pickle file?**\n",
    "There are three pickle files found. They can be easily recognized by their *.pickle* extension. However, this is not the only used extension for pickle files. \n",
    "\n",
    "For instance, in the [Python 2 documentation](https://docs.python.org/2/library/pickle.html#example) *.pkl* is used as an extension.\n",
    "Other examples online might include *.p* as an extension\n",
    "\n",
    "##### ASSIGNMENT 2: print the contents of the pickle files with .read(). Also use the 'open' method."
   ]
  },
  {
   "cell_type": "code",
   "execution_count": null,
   "id": "e845e3ad",
   "metadata": {},
   "outputs": [],
   "source": [
    "for file in list_of_pickle_files:\n",
    "    #### ADD YOUR CODE HERE ####\n",
    "    print('')"
   ]
  },
  {
   "cell_type": "markdown",
   "id": "7e3171af",
   "metadata": {},
   "source": [
    "Most likely, you cannot make any sense of the file contents. This is because pickle files are Python Objects that are serialized into a byte stream. The printed content shows the actual bytes.\n",
    "\n",
    "When you are unsure with what kind of data object you are working with, it is often a good choice to check the data type with 'type()'. \n",
    "\n",
    "##### ASSIGNMENT 3: print the file type of each pickled file with type() "
   ]
  },
  {
   "cell_type": "code",
   "execution_count": null,
   "id": "b863a7e4",
   "metadata": {},
   "outputs": [],
   "source": [
    "for file in list_of_pickle_files:\n",
    "    #### ADD YOUR CODE HERE ####\n",
    "    print('')"
   ]
  },
  {
   "cell_type": "markdown",
   "id": "a1c6ced8",
   "metadata": {},
   "source": [
    "### **Theory - why use pickle?**\n",
    "Compared to other file types, it might be unclear at this point why we want to use pickle at all. Binary files aren't easy to read or use in general. So wouldn't it be more convenient to save data as a more generic file types such as XML, JSON or CSV?\n",
    "\n",
    "The answer is: it depends on what type of information you want to save and/or transfer. Pickle is ment as a convenient file type to transfer **Python objects** specifically between different systems, environments or pieces of Python code. It is the fastest and most efficient way to transport practically any(!) Python object."
   ]
  }
 ],
 "metadata": {
  "interpreter": {
   "hash": "15b20538a962554200a580dbac694884175b6fc3c353c551da694757f0ccb282"
  },
  "kernelspec": {
   "display_name": "Python 3 (ipykernel)",
   "language": "python",
   "name": "python3"
  },
  "language_info": {
   "codemirror_mode": {
    "name": "ipython",
    "version": 3
   },
   "file_extension": ".py",
   "mimetype": "text/x-python",
   "name": "python",
   "nbconvert_exporter": "python",
   "pygments_lexer": "ipython3",
   "version": "3.9.4"
  }
 },
 "nbformat": 4,
 "nbformat_minor": 5
}
