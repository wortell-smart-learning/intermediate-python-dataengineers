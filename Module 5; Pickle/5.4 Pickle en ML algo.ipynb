{
 "cells": [
  {
   "cell_type": "markdown",
   "id": "5ac2ad78",
   "metadata": {},
   "source": [
    "# Section 3: speed comparison\n",
    "\n",
    "### **Theory - speed and file size of pickle files**\n",
    "As a Data Engineer, you often want the most efficient solution to the challenges that appear during your work. When working with small datasets, different approaches might seem interchangeable. However, working with larger datasets, you will notice differences in the runtime speed of code.\n",
    "\n",
    "In this section, we will explore how fast writing and reading pickle files are when working with tabular data compared to using .csv files. The pandas libary will be used to create a large dummy dataset, save it to disk and load it again. Since the focus of this module is Pickle, there will not be in-depth info of pandas, but it is always possible to check out the [Pandas Documentation](https://pandas.pydata.org/docs/). \n",
    "\n",
    "Furthermore, we will use a builtin magic function of jupyter called *%%time* that will show the time it took to run a certain cell. \n",
    "\n",
    "\n"
   ]
  },
  {
   "cell_type": "markdown",
   "id": "9ea6c79e",
   "metadata": {},
   "source": [
    "##### ASSIGNMENT 7: create a dummy dataset of 5 columns and 2 million rows"
   ]
  },
  {
   "cell_type": "code",
   "execution_count": null,
   "id": "0c81249f",
   "metadata": {},
   "outputs": [],
   "source": [
    "np.random.seed = 42\n",
    "df_size = 5_000_000\n",
    "\n",
    "df = pd.DataFrame({'a': np.random.rand(df_size),\n",
    "                   'b': np.random.rand(df_size),\n",
    "                   'c': np.random.rand(df_size),\n",
    "                   'd': np.random.rand(df_size),\n",
    "                   'e': np.random.rand(df_size)})\n",
    "\n",
    "display(df)"
   ]
  },
  {
   "cell_type": "markdown",
   "id": "84b09c93",
   "metadata": {},
   "source": [
    "##### ASSIGNMENT 8: save the DataFrame as a .csv file using the .to_csv() function of Pandas"
   ]
  },
  {
   "cell_type": "code",
   "execution_count": null,
   "id": "ef70057c",
   "metadata": {},
   "outputs": [],
   "source": [
    "%%time\n",
    "#### ADD YOUR CODE HERE ####\n"
   ]
  },
  {
   "cell_type": "markdown",
   "id": "1da63b9c",
   "metadata": {},
   "source": [
    "##### ASSIGNMENT 9: load the created .csv file as a DataFrame using the pandas.read_csv() funcion of Pandas"
   ]
  },
  {
   "cell_type": "code",
   "execution_count": null,
   "id": "4d93b3cf",
   "metadata": {},
   "outputs": [],
   "source": [
    "%%time\n",
    "#### ADD YOUR CODE HERE ####\n"
   ]
  },
  {
   "cell_type": "markdown",
   "id": "b27ebb0c",
   "metadata": {},
   "source": [
    "##### ASSIGNMENT 10: now save the original DataFrame we created as a pickle file"
   ]
  },
  {
   "cell_type": "code",
   "execution_count": null,
   "id": "22059f56",
   "metadata": {},
   "outputs": [],
   "source": [
    "%%time\n",
    "#### ADD YOUR CODE HERE ####\n"
   ]
  },
  {
   "cell_type": "markdown",
   "id": "9498ff1c",
   "metadata": {},
   "source": [
    "##### ASSIGNMENT 11: now deserialize pickle file containing the serialized DataFrame into a DataFrame "
   ]
  },
  {
   "cell_type": "code",
   "execution_count": null,
   "id": "bfc1111b",
   "metadata": {},
   "outputs": [],
   "source": [
    "%%time\n",
    "#### ADD YOUR CODE HERE ####\n"
   ]
  },
  {
   "cell_type": "markdown",
   "id": "ee61e883",
   "metadata": {},
   "source": [
    "##### ASSIGNMENT 12: Now print the file size of both the csv file and the pickle file you created.\n",
    "\n",
    "*Hint: the OS library has something for this called getsize()*"
   ]
  },
  {
   "cell_type": "code",
   "execution_count": null,
   "id": "dd1a11fd",
   "metadata": {},
   "outputs": [],
   "source": [
    "#### ADD YOUR CODE HERE ####\n"
   ]
  },
  {
   "cell_type": "markdown",
   "id": "789816fa",
   "metadata": {},
   "source": [
    "### **Theory - speed and file size of pickle files**\n",
    "As you can see Pickle is way more efficient to use as a temporary storage than .csv when it comes to tabular data.\n",
    "* it is much faster to read/write pickle files than csv files\n",
    "* the file size is also smaller for pickle files compared to csv files\n",
    "\n",
    "However, there are also downsides. Pickle creates files unreadable for humans, and cannot be loaded into programs like Excel. Therefore, always make sure if pickle is the right fit for the job!"
   ]
  },
  {
   "cell_type": "markdown",
   "id": "9c8cdd20",
   "metadata": {},
   "source": [
    "# Section 4: pickle and machine learning algorithms\n",
    "In this final section, we are going to save a fully trained machine learning model into a pickle file. As already stated, almost all Python objects can be stored as pickle, and this includes ML models. This is arguably the most powerful usage of Pickle for a Data Engineer when working with ML models.\n",
    "\n",
    "Since the focus of this Module is not on the creation or training of a ML model, a cell with all code required to do this is given below. Simply run the cell to load the correct data and train a model.\n",
    "\n",
    "The data we use is from the famous [Iris dataset](https://archive.ics.uci.edu/ml/datasets/iris), which is often used to showcase classification algorithms."
   ]
  },
  {
   "cell_type": "code",
   "execution_count": null,
   "id": "a2f75364",
   "metadata": {},
   "outputs": [],
   "source": [
    "# Extra libraries needed for this section\n",
    "import matplotlib.pyplot as plt\n",
    "from sklearn import datasets, metrics\n",
    "from sklearn.model_selection import train_test_split\n",
    "from sklearn.linear_model import LogisticRegression"
   ]
  },
  {
   "cell_type": "markdown",
   "id": "0601c32f",
   "metadata": {},
   "source": [
    "##### ASSIGNMENT 13: run the following few cells to load and explore the data, and subsequently train a model."
   ]
  },
  {
   "cell_type": "code",
   "execution_count": null,
   "id": "119b610f",
   "metadata": {},
   "outputs": [],
   "source": [
    "# load data from sklearn\n",
    "iris = datasets.load_iris()\n",
    "\n",
    "# turn data into DataFrame\n",
    "df_iris = pd.DataFrame(data=np.c_[iris['data'], iris['target']],\n",
    "                       columns= iris['feature_names'] + ['target'])\n",
    "\n",
    "# Add species column\n",
    "df_iris['species'] = df_iris['target'].map({\n",
    "    0: 'setosa',\n",
    "    1: 'versicolor',\n",
    "    2: 'virginica'\n",
    "})\n",
    "\n",
    "# Show top rows of DataFrame\n",
    "df_iris.head()"
   ]
  },
  {
   "cell_type": "code",
   "execution_count": null,
   "id": "6aa778c2",
   "metadata": {},
   "outputs": [],
   "source": [
    "# Plot the petal length and petal width\n",
    "df_iris.plot.scatter(\n",
    "    x='petal length (cm)',\n",
    "    y='petal width (cm)',\n",
    "    c='target',\n",
    "    colormap='viridis',\n",
    "    figsize=(12,8))\n",
    "\n",
    "plt.xlabel(\"petal length (cm)\", size=12)\n",
    "plt.ylabel(\"petal width (cm)\", size=12)\n",
    "plt.title('Iris petals (color indicates class)', size=16);"
   ]
  },
  {
   "cell_type": "code",
   "execution_count": null,
   "id": "72319d53",
   "metadata": {},
   "outputs": [],
   "source": [
    "# PARAMETERS TO CHANGE\n",
    "input_columns = ['petal length (cm)','petal width (cm)']\n",
    "test_size = 0.5\n",
    "random_state = 42\n",
    "model = LogisticRegression()\n",
    "model_name = 'LR_with_petaldata'\n",
    "\n",
    "# Create input X, and target y to train the model with \n",
    "X = df_iris[input_columns]  # only use petal length and width\n",
    "X = X.to_numpy()  # converting into numpy array\n",
    "y = iris['target']\n",
    "\n",
    "# Splitting into train and test\n",
    "X_train, X_test, y_train, y_test = train_test_split(X,y,test_size=0.5, random_state=42)\n",
    "\n",
    "# Fit the model based on chosen parameters\n",
    "model.fit(X,y)"
   ]
  },
  {
   "cell_type": "markdown",
   "id": "cbe3d1ab",
   "metadata": {},
   "source": [
    "##### ASSIGNMENT 14: save the fitted model as a pickle file"
   ]
  },
  {
   "cell_type": "code",
   "execution_count": null,
   "id": "2b1a060a",
   "metadata": {},
   "outputs": [],
   "source": [
    "#### ADD YOUR CODE HERE ####\n"
   ]
  },
  {
   "cell_type": "markdown",
   "id": "256af67d",
   "metadata": {},
   "source": [
    "##### ASSIGNMENT 15: load the fitted model and print metrics"
   ]
  },
  {
   "cell_type": "code",
   "execution_count": null,
   "id": "5fe0a7e8",
   "metadata": {},
   "outputs": [],
   "source": [
    "#### ADD YOUR CODE HERE ####\n",
    "loaded_model = None\n",
    "#### STOP ADDING YOUR CODE HERE ####\n",
    "\n",
    "training_prediction = loaded_model.predict(X_train)\n",
    "test_prediction = loaded_model.predict(X_test)\n",
    "\n",
    "# Precision Recall scores\n",
    "print(\"Precision, Recall, Confusion matrix, in training\\n\")\n",
    "print(metrics.classification_report(y_train, training_prediction, digits=3))\n",
    "\n",
    "# Confusion matrix\n",
    "print('Confuson matrix')\n",
    "print(metrics.confusion_matrix(y_train, training_prediction))"
   ]
  },
  {
   "cell_type": "markdown",
   "id": "5078e470",
   "metadata": {},
   "source": [
    "##### (OPTIONAL) ASSIGNMENT 16\n",
    "* fit another Logistic Regression model with diffent input columns (sepal data instead of petal)\n",
    "* save the model under a different name\n",
    "* load both models and compare metrics \n",
    "\n",
    "*Hint: doublecheck you are using the right X_train and X_test for each model when predicting*\n",
    "\n",
    "Which model performs better?"
   ]
  },
  {
   "cell_type": "code",
   "execution_count": null,
   "id": "01a620fe",
   "metadata": {},
   "outputs": [],
   "source": [
    "#### ADD YOUR CODE HERE ####"
   ]
  },
  {
   "cell_type": "markdown",
   "id": "a225ad92",
   "metadata": {},
   "source": [
    "## **THEORY - Pickle for Machine Learning models**\n",
    "As you can see, saving different models as different pickle files is done easily. This can be of great help to a Data Engineer working with ML models.\n",
    "\n",
    " For example, it makes model comparison all trained with different parameters more organized and efficient. \n",
    " \n",
    " Furthermore, it can help productionalize models: train multiple models and compare them in a development environment and only transfer the pickle file of the best performing model to the production environment.\n",
    "\n",
    "Congratulations on completing this module!"
   ]
  }
 ],
 "metadata": {
  "interpreter": {
   "hash": "15b20538a962554200a580dbac694884175b6fc3c353c551da694757f0ccb282"
  },
  "kernelspec": {
   "display_name": "Python 3 (ipykernel)",
   "language": "python",
   "name": "python3"
  },
  "language_info": {
   "codemirror_mode": {
    "name": "ipython",
    "version": 3
   },
   "file_extension": ".py",
   "mimetype": "text/x-python",
   "name": "python",
   "nbconvert_exporter": "python",
   "pygments_lexer": "ipython3",
   "version": "3.9.4"
  }
 },
 "nbformat": 4,
 "nbformat_minor": 5
}
