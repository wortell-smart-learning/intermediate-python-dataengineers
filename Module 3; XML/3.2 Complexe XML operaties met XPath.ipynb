{
 "cells": [
  {
   "cell_type": "markdown",
   "id": "ec79be9c",
   "metadata": {},
   "source": [
    "## Section 3: Complex XML operations (25 min)\n",
    "\n",
    "In this section we are going tot have a look at other operations in the ElementTree library that we can use to parse XML documents and their structure. XML documents can be very large, so it's important that you know how to search them.\n",
    "\n",
    "In the sections before we searched the XML documents using for loops and used the element names as a basis. There are also other options to help you navigate the XML structure. Some of these options are the '.find' and the '.findall' methods. These can be used to either find the first matching element, or find all matching elements (in the form of a list).\n",
    "\n",
    "These functionalities can be combined with the use of Xpath. Xpath is an expression language used to query XML documents (as well as HTML), and can be used to quickly search through an XML document. Xpath, as the name suggests, uses a 'path like' syntax. Below there is an example of the use of Xpath and the '.find' method.\n",
    "\n",
    "```python\n",
    "import xml.etree.ElementTree as ET\n",
    "\n",
    "tree = ET.parse('movies.xml')\n",
    "root = tree.getroot()\n",
    "\n",
    "element_1 = root.find('./movie/actor/first_name')\n",
    "print(element_1.text)\n",
    "\n",
    "element_2 = root.find('./movie/actor/last_name')\n",
    "print(element_2.text)\n",
    "```\n",
    "\n",
    "As you can see in the example, the '.find' method starts looking at the element provided. And then using a forward slash we can indicate that we are moving one element down. The element names than indicate what you're looking for.\n",
    "\n",
    "And now it's time that you put it into practice."
   ]
  },
  {
   "cell_type": "markdown",
   "id": "051977be",
   "metadata": {},
   "source": [
    "#### Assignment 9: Complex XML operations 1\n",
    "\n",
    "Retrieve all summaries from 'movies.xml' document, and print them. \n",
    "There should be six summaries in total."
   ]
  },
  {
   "cell_type": "code",
   "execution_count": null,
   "id": "c3b88a24",
   "metadata": {},
   "outputs": [],
   "source": [
    "### FILL IN"
   ]
  },
  {
   "cell_type": "markdown",
   "id": "8a4f5cfc",
   "metadata": {},
   "source": [
    "#### Assignment 10: Complex XML operations 2\n",
    "\n",
    "In the 'movies.xml' document, find all contents of the children elements of the actor elements. \n",
    "And put them in separate lists.\n",
    "So in the end there should be four lists in total; a list containing the first_name, a list containing the last_name, a list containing the role, and a list containing the birth_date."
   ]
  },
  {
   "cell_type": "code",
   "execution_count": null,
   "id": "a05366d8",
   "metadata": {},
   "outputs": [],
   "source": [
    "### FILL IN"
   ]
  },
  {
   "cell_type": "markdown",
   "id": "1b0310c7",
   "metadata": {},
   "source": [
    "#### Assignment 11: Complex XML operations 3\n",
    "\n",
    "Extract information from the 'movies.xml' document, and place it in a Pandas DataFrame.\n",
    "Each row should contain the following information about a movie: title, year, genre, and the number of actors."
   ]
  },
  {
   "cell_type": "code",
   "execution_count": null,
   "id": "4297e522",
   "metadata": {},
   "outputs": [],
   "source": [
    "### FILL IN"
   ]
  }
 ],
 "metadata": {
  "kernelspec": {
   "display_name": "Python 3 (ipykernel)",
   "language": "python",
   "name": "python3"
  },
  "language_info": {
   "codemirror_mode": {
    "name": "ipython",
    "version": 3
   },
   "file_extension": ".py",
   "mimetype": "text/x-python",
   "name": "python",
   "nbconvert_exporter": "python",
   "pygments_lexer": "ipython3",
   "version": "3.9.4"
  }
 },
 "nbformat": 4,
 "nbformat_minor": 5
}
