{
 "cells": [
  {
   "cell_type": "markdown",
   "id": "eb0df046",
   "metadata": {},
   "source": [
    "## Section 4: Parsing XML files (35 min)\n",
    "\n",
    "Now we have seen the possibilities of the ElementTree library in combination with the structure of XML documents. Let's focus some more on retrieving information from XML documents.\n",
    "\n",
    "Let's first focus on a new XML document; 'XML Country List.xml'.\n",
    "A quick tip, if you want want to print an entire XML, use the following code (you have used this in an earlier assignment).  \n",
    "\n",
    "```python\n",
    "print(ET.tostring(root, encoding='utf8').decode('utf8'))\n",
    "```"
   ]
  },
  {
   "cell_type": "markdown",
   "id": "daef385d",
   "metadata": {},
   "source": [
    "#### Assignment 12: Parsing XML files 1\n",
    "\n",
    "Load the 'XML Country List.xml' and get the root.\n",
    "Then print the entire XML document."
   ]
  },
  {
   "cell_type": "code",
   "execution_count": null,
   "id": "24f2d021",
   "metadata": {},
   "outputs": [],
   "source": [
    "### FILL IN"
   ]
  },
  {
   "cell_type": "markdown",
   "id": "16988437",
   "metadata": {},
   "source": [
    "#### Assignment 13: Parsing XML files 2\n",
    "\n",
    "Print out all element tag names."
   ]
  },
  {
   "cell_type": "code",
   "execution_count": null,
   "id": "d8e06629",
   "metadata": {},
   "outputs": [],
   "source": [
    "### FILL IN"
   ]
  },
  {
   "cell_type": "markdown",
   "id": "b27b07b5",
   "metadata": {},
   "source": [
    "#### Assignment 14: Parsing XML files 3\n",
    "\n",
    "Fill a list with all country names. Use the '.text' method to retrieve the country name."
   ]
  },
  {
   "cell_type": "code",
   "execution_count": null,
   "id": "bf390bc0",
   "metadata": {},
   "outputs": [],
   "source": [
    "### FILL IN"
   ]
  },
  {
   "cell_type": "markdown",
   "id": "11614265",
   "metadata": {},
   "source": [
    "#### Assignment 15: Parsing XML files 4\n",
    "\n",
    "Each country element has several attributes.\n",
    "Create a Pandas DataFrame with per row a country with information found within the attributes.\n",
    "The following attributes can be found: code, handle, continent, and iso."
   ]
  },
  {
   "cell_type": "code",
   "execution_count": null,
   "id": "57ff30ff",
   "metadata": {},
   "outputs": [],
   "source": [
    "### FILL IN"
   ]
  },
  {
   "cell_type": "markdown",
   "id": "781ba560",
   "metadata": {},
   "source": [
    "Let's move on to another XML file, the 'books.xml'."
   ]
  },
  {
   "cell_type": "markdown",
   "id": "6d9e491f",
   "metadata": {},
   "source": [
    "#### Assignment 16: Parsing XML files 5\n",
    "\n",
    "Load the 'books.xml' document, and get the root.\n",
    "Create a dictionary, with as keys the book names.\n",
    "The values of the dictionary will be another dictionary, containing the information per book."
   ]
  },
  {
   "cell_type": "code",
   "execution_count": null,
   "id": "69d6c1e7",
   "metadata": {},
   "outputs": [],
   "source": [
    "### FILL IN"
   ]
  }
 ],
 "metadata": {
  "kernelspec": {
   "display_name": "Python 3 (ipykernel)",
   "language": "python",
   "name": "python3"
  },
  "language_info": {
   "codemirror_mode": {
    "name": "ipython",
    "version": 3
   },
   "file_extension": ".py",
   "mimetype": "text/x-python",
   "name": "python",
   "nbconvert_exporter": "python",
   "pygments_lexer": "ipython3",
   "version": "3.9.4"
  }
 },
 "nbformat": 4,
 "nbformat_minor": 5
}
