{
 "cells": [
  {
   "cell_type": "code",
   "execution_count": null,
   "id": "1121b2bf",
   "metadata": {},
   "outputs": [],
   "source": [
    "from azure.storage.blob import BlobClient\n",
    "import requests\n",
    "import json\n",
    "\n",
    "URL = \"https://pokeapi.co/api/v2/pokemon/{}\"\n",
    "POKEMON_NUMBERS = [i for i in range(1, 151)]\n",
    "\n",
    "connection_string = \"INSERT_CONNECTION_STRING_HERE\"\n",
    "\n",
    "for number in POKEMON_NUMBERS:\n",
    "    print(number)\n",
    "    \n",
    "    specific_url = URL.format(number)\n",
    "    result = requests.get(specific_url).json()\n",
    "    \n",
    "    blob = BlobClient.from_connection_string(conn_str=connection_string, \n",
    "                                             container_name=\"pokemon\", \n",
    "                                             blob_name=\"pokemon_{}.json\".format(number))\n",
    "    \n",
    "    blob.upload_blob(json.dumps(result))\n",
    "\n"
   ]
  }
 ],
 "metadata": {
  "kernelspec": {
   "display_name": "Python 3 (ipykernel)",
   "language": "python",
   "name": "python3"
  },
  "language_info": {
   "codemirror_mode": {
    "name": "ipython",
    "version": 3
   },
   "file_extension": ".py",
   "mimetype": "text/x-python",
   "name": "python",
   "nbconvert_exporter": "python",
   "pygments_lexer": "ipython3",
   "version": "3.9.4"
  }
 },
 "nbformat": 4,
 "nbformat_minor": 5
}
