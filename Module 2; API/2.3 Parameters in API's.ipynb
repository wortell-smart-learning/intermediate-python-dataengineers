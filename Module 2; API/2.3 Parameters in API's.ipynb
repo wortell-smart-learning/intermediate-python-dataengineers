{
 "cells": [
  {
   "attachments": {},
   "cell_type": "markdown",
   "id": "c20a6a39",
   "metadata": {},
   "source": [
    "## Section 4: Customizing your information from APIs (45 min)\n",
    "\n",
    "We have had a look at APIs in general, retrieving information from APIs, and several options in API requests. Now let's try and customize the information we get from an API.\n",
    "\n",
    "The API we'll be using is https://deckofcardsapi.com/. With this API we can create and shuffle our own card decks, and draw cards from them. Take a good look at the documentation at what the options are. And then lets immediately dive into working with this API. We'll be combining basic Python with the functionality of the API."
   ]
  },
  {
   "attachments": {},
   "cell_type": "markdown",
   "id": "b6c634e5",
   "metadata": {},
   "source": [
    "#### Assignment 9: Customizing your information from APIs 1\n",
    "\n",
    "Use the API on https://deckofcardsapi.com/ to create a new deck from three decks in total.\n",
    "Have a look at the results. It's important to be able to retrieve the 'deck_id'."
   ]
  },
  {
   "cell_type": "code",
   "execution_count": 51,
   "id": "dce7db73",
   "metadata": {},
   "outputs": [
    {
     "name": "stdout",
     "output_type": "stream",
     "text": [
      "{'success': True, 'deck_id': 'v1nansmy08mo', 'remaining': 156, 'shuffled': True}\n",
      "v1nansmy08mo\n"
     ]
    }
   ],
   "source": [
    "### FILL IN"
   ]
  },
  {
   "attachments": {},
   "cell_type": "markdown",
   "id": "6986cc16",
   "metadata": {},
   "source": [
    "#### Assignment 10: Customizing your information from APIs 2\n",
    "\n",
    "Using the 'deck_id' from the deck that you have created, write an API call that can draw a card (or multiple) from your own deck, and print the most relevant information from those cards. Check the documentation."
   ]
  },
  {
   "cell_type": "code",
   "execution_count": 72,
   "id": "922247d3",
   "metadata": {},
   "outputs": [
    {
     "name": "stdout",
     "output_type": "stream",
     "text": [
      "[{'code': 'AD', 'image': 'https://deckofcardsapi.com/static/img/aceDiamonds.png', 'images': {'svg': 'https://deckofcardsapi.com/static/img/aceDiamonds.svg', 'png': 'https://deckofcardsapi.com/static/img/aceDiamonds.png'}, 'value': 'ACE', 'suit': 'DIAMONDS'}]\n"
     ]
    }
   ],
   "source": [
    "### FILL IN"
   ]
  },
  {
   "attachments": {},
   "cell_type": "markdown",
   "id": "ba67330c",
   "metadata": {},
   "source": [
    "#### Assignment 11: Customizing your information from APIs 3\n",
    "\n",
    "Using the 'deck_id' from the deck that you have created, write an API call that can shuffle the remaining cards in your deck. Check the documentation."
   ]
  },
  {
   "cell_type": "code",
   "execution_count": 59,
   "id": "21a5e1b8",
   "metadata": {},
   "outputs": [
    {
     "name": "stdout",
     "output_type": "stream",
     "text": [
      "{'success': True, 'deck_id': 'v1nansmy08mo', 'remaining': 148, 'shuffled': True}\n"
     ]
    }
   ],
   "source": [
    "### FILL IN"
   ]
  },
  {
   "attachments": {},
   "cell_type": "markdown",
   "id": "1c129643",
   "metadata": {},
   "source": [
    "#### Assignment 12: Customizing your information from APIs 4\n",
    "\n",
    "Write some code that will create a new card deck (you choose the number of decks). Then write a for loop that draws two cards, and compares them. Stop (break) the for loop when the two cards are the same (based on value, suit, or both)."
   ]
  },
  {
   "cell_type": "code",
   "execution_count": 66,
   "id": "7e245da3",
   "metadata": {},
   "outputs": [
    {
     "name": "stdout",
     "output_type": "stream",
     "text": [
      "Attempt: 7\n",
      "First card: 10 of HEARTS\n",
      "Second card: 10 of SPADES\n",
      "Attempt: 12\n",
      "First card: QUEEN of HEARTS\n",
      "Second card: QUEEN of CLUBS\n",
      "Attempt: 20\n",
      "First card: 4 of HEARTS\n",
      "Second card: 4 of DIAMONDS\n",
      "Attempt: 22\n",
      "First card: 8 of HEARTS\n",
      "Second card: 8 of CLUBS\n",
      "Attempt: 29\n",
      "First card: 8 of SPADES\n",
      "Second card: 8 of DIAMONDS\n",
      "Attempt: 33\n",
      "First card: KING of CLUBS\n",
      "Second card: KING of DIAMONDS\n",
      "Attempt: 48\n",
      "First card: 6 of CLUBS\n",
      "Second card: 6 of CLUBS\n",
      "Attempt: 53\n",
      "First card: 5 of HEARTS\n",
      "Second card: 5 of SPADES\n",
      "Attempt: 76\n",
      "First card: 3 of SPADES\n",
      "Second card: 3 of CLUBS\n"
     ]
    }
   ],
   "source": [
    "### FILL IN"
   ]
  },
  {
   "attachments": {},
   "cell_type": "markdown",
   "id": "ef43cb8e",
   "metadata": {},
   "source": [
    "#### Assignment 13: Customizing your information from APIs 5\n",
    "\n",
    "Write some code that will create a new card deck (you choose the number of decks). Then start with drawing two cards. Then write a for loop that draws a card, and check whether it's between the two previous cards. Stop (break) the for loop when the newest cards is not between the two previous cards."
   ]
  },
  {
   "cell_type": "code",
   "execution_count": 75,
   "id": "fbfda5c4",
   "metadata": {},
   "outputs": [
    {
     "name": "stdout",
     "output_type": "stream",
     "text": [
      "Attempt: 0\n",
      "First card: 4 of CLUBS\n",
      "Second card: 10 of SPADES\n",
      "Third card 9 of DIAMONDS\n",
      "Attempt: 10\n",
      "First card: 2 of DIAMONDS\n",
      "Second card: 7 of HEARTS\n",
      "Third card 3 of CLUBS\n",
      "Attempt: 26\n",
      "First card: 4 of SPADES\n",
      "Second card: 9 of DIAMONDS\n",
      "Third card 6 of HEARTS\n",
      "Attempt: 33\n",
      "First card: 4 of CLUBS\n",
      "Second card: 10 of CLUBS\n",
      "Third card 7 of CLUBS\n",
      "Attempt: 34\n",
      "First card: 3 of CLUBS\n",
      "Second card: 9 of DIAMONDS\n",
      "Third card 5 of HEARTS\n",
      "Attempt: 36\n",
      "First card: 3 of CLUBS\n",
      "Second card: 9 of CLUBS\n",
      "Third card 8 of CLUBS\n"
     ]
    }
   ],
   "source": [
    "### FILL IN"
   ]
  },
  {
   "attachments": {},
   "cell_type": "markdown",
   "id": "c2f024ce",
   "metadata": {},
   "source": [
    "#### Assignment 14: Customizing your information from APIs 6\n",
    "\n",
    "Write some code that will create a new card deck (you choose the number of decks). Then write a for loop that draws one card. Keep a count of how many of each suit is drawn. Stop (break) the for loop when the number in any suit reaches a point (you choose that point), so for example; stop the loop when you have drawn eight cards of HEARTS."
   ]
  },
  {
   "cell_type": "code",
   "execution_count": null,
   "id": "6bd86951",
   "metadata": {},
   "outputs": [],
   "source": [
    "### FILL IN"
   ]
  }
 ],
 "metadata": {
  "kernelspec": {
   "display_name": "Python 3 (ipykernel)",
   "language": "python",
   "name": "python3"
  },
  "language_info": {
   "codemirror_mode": {
    "name": "ipython",
    "version": 3
   },
   "file_extension": ".py",
   "mimetype": "text/x-python",
   "name": "python",
   "nbconvert_exporter": "python",
   "pygments_lexer": "ipython3",
   "version": "3.9.4"
  }
 },
 "nbformat": 4,
 "nbformat_minor": 5
}
