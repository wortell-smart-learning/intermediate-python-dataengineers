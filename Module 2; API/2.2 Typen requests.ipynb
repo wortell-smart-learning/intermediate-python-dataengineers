{
 "cells": [
  {
   "attachments": {},
   "cell_type": "markdown",
   "id": "b39a0132",
   "metadata": {},
   "source": [
    "### Section 3: Types of requests (15 min)\n",
    "\n",
    "Now that we have played around with APIs, let's have a closer look at the different types of requests you can do. Up until now we only used GET requests. And with those GET requests, you send a request to retrieve an existing resource. But there are also other types of requests. See the table below for the most common options, or HTTP methods.\n",
    "\n",
    "| HTTP method | Description |\n",
    "| --- | --- |\n",
    "| GET | Retrieve an existing resource. |\n",
    "| POST | Create a new resource. |\n",
    "| PUT | Update an existing resource. |\n",
    "| PATCH | Partially update an existing resource. |\n",
    "| DELETE | Delete a resource. |\n",
    "\n",
    "The five methods listed above are the most common methods, and can be used to manage the resources (or data) in the API. Let's have a closer look at them. We can combine these with the requests library. These usage of the different methods is the same as the GET method."
   ]
  },
  {
   "attachments": {},
   "cell_type": "markdown",
   "id": "13d9cf80",
   "metadata": {},
   "source": [
    "Using the following website (https://httpbin.org/), we'll be able to use the different methods. This website let's us try out those methods without too much problems. Lets first have a look at the POST method. By passing the key-word 'data', we can pass along something that will then be stored. "
   ]
  },
  {
   "cell_type": "code",
   "execution_count": null,
   "id": "c20cd218",
   "metadata": {},
   "outputs": [],
   "source": [
    "import requests\n",
    "\n",
    "URL = 'https://httpbin.org/post'\n",
    "data_to_send = {\"name\": \"Pikachu\",\n",
    "                \"type\": \"Electric\"}\n",
    "\n",
    "result = requests.post(URL, data=data_to_send)\n",
    "\n",
    "print(result.text)"
   ]
  },
  {
   "attachments": {},
   "cell_type": "markdown",
   "id": "38de81c1",
   "metadata": {},
   "source": [
    "Now it's your turn to try it out."
   ]
  },
  {
   "attachments": {},
   "cell_type": "markdown",
   "id": "bb2fa300",
   "metadata": {},
   "source": [
    "#### Assignment 6: Types of requests 1\n",
    "\n",
    "Use the requests library to send a PUT requests to the https://httpbin.org/put/ API. Don't forget to use the documentation of the API and the documentation of requests (https://requests.readthedocs.io/en/latest/user/quickstart/#make-a-request)."
   ]
  },
  {
   "cell_type": "code",
   "execution_count": 37,
   "id": "4c2ae64e",
   "metadata": {},
   "outputs": [
    {
     "name": "stdout",
     "output_type": "stream",
     "text": [
      "200\n"
     ]
    }
   ],
   "source": [
    "### FILL IN"
   ]
  },
  {
   "attachments": {},
   "cell_type": "markdown",
   "id": "5a50a5ef",
   "metadata": {},
   "source": [
    "#### Assignment 7: Types of requests 2\n",
    "\n",
    "Use the requests library to send a PATCH requests to the https://httpbin.org/patch/ API. Don't forget to use the documentation of the API and the documentation of requests (https://requests.readthedocs.io/en/latest/user/quickstart/#make-a-request)."
   ]
  },
  {
   "cell_type": "code",
   "execution_count": 38,
   "id": "4ee33e62",
   "metadata": {},
   "outputs": [
    {
     "name": "stdout",
     "output_type": "stream",
     "text": [
      "405\n"
     ]
    }
   ],
   "source": [
    "### FILL IN"
   ]
  },
  {
   "attachments": {},
   "cell_type": "markdown",
   "id": "c99a4ce5",
   "metadata": {},
   "source": [
    "#### Assignment 8: Types of requests 3\n",
    "\n",
    "Use the requests library to send a DELETE requests to the https://httpbin.org/delete/ API. Don't forget to use the documentation of the API and the documentation of requests (https://requests.readthedocs.io/en/latest/user/quickstart/#make-a-request)."
   ]
  },
  {
   "cell_type": "code",
   "execution_count": 39,
   "id": "eee6ec6d",
   "metadata": {},
   "outputs": [
    {
     "name": "stdout",
     "output_type": "stream",
     "text": [
      "405\n"
     ]
    }
   ],
   "source": [
    "### FILL IN"
   ]
  },
  {
   "attachments": {},
   "cell_type": "markdown",
   "id": "fd8538ff",
   "metadata": {},
   "source": [
    "The most important takeaway from this section, is that there are multiple methods you can use with APIs. The most used method will remain the GET request."
   ]
  }
 ],
 "metadata": {
  "kernelspec": {
   "display_name": "Python 3 (ipykernel)",
   "language": "python",
   "name": "python3"
  },
  "language_info": {
   "codemirror_mode": {
    "name": "ipython",
    "version": 3
   },
   "file_extension": ".py",
   "mimetype": "text/x-python",
   "name": "python",
   "nbconvert_exporter": "python",
   "pygments_lexer": "ipython3",
   "version": "3.9.4"
  }
 },
 "nbformat": 4,
 "nbformat_minor": 5
}
