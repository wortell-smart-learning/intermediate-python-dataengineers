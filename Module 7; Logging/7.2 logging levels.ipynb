{
 "cells": [
  {
   "cell_type": "markdown",
   "id": "574e57bf",
   "metadata": {},
   "source": [
    "# Section 3: The different levels of logging\n",
    "\n",
    "As seen in the assignments above, there are at least two ways of displaying information with logging, namely info() and warning(). But there are just two of the [six different levels](https://docs.python.org/3/library/logging.html#levels) of logging. Below is an overview of all levels:\n",
    "\n",
    "|   Level  | Numeric value |\n",
    "|:--------:|:-------------:|\n",
    "| CRITICAL | 50            |\n",
    "| ERROR    | 40            |\n",
    "| WARNING  | 30            |\n",
    "| INFO     | 20            |\n",
    "| DEBUG    | 10            |\n",
    "| NOTSET   | 0             |\n",
    "\n",
    "Let's try out all levels!\n",
    "\n",
    "##### ASSIGNMENT 4: print the statement below on all different levels (excluding NOTSET, since it has no method coupled to it)\n",
    "\n",
    "*Hint: use similar method calls as the one you used in previous assignments*\n"
   ]
  },
  {
   "cell_type": "code",
   "execution_count": null,
   "id": "3806e673",
   "metadata": {},
   "outputs": [],
   "source": [
    "statement = 'This is the best logging tutorial ever created.'\n",
    "\n",
    "#### ADD YOUR CODE HERE ####"
   ]
  },
  {
   "cell_type": "markdown",
   "id": "7b5b97c0",
   "metadata": {},
   "source": [
    "### **Theory: why do not all levels display information as output?**\n",
    "\n",
    "As can be seen in the assignment above, two levels of logging do not seem to display any information. This is because the default logger that is created by logging is set to only display messages that are logged on level 30 (i.e. warning) or higher (i.e error and critical).\n",
    "\n",
    "In most cases, you also want to display info messages, or even debug messages. This is not possible with the default logger. So we need to create one on our own. Let's do that in the next section"
   ]
  }
 ],
 "metadata": {
  "interpreter": {
   "hash": "15b20538a962554200a580dbac694884175b6fc3c353c551da694757f0ccb282"
  },
  "kernelspec": {
   "display_name": "Python 3 (ipykernel)",
   "language": "python",
   "name": "python3"
  },
  "language_info": {
   "codemirror_mode": {
    "name": "ipython",
    "version": 3
   },
   "file_extension": ".py",
   "mimetype": "text/x-python",
   "name": "python",
   "nbconvert_exporter": "python",
   "pygments_lexer": "ipython3",
   "version": "3.9.4"
  }
 },
 "nbformat": 4,
 "nbformat_minor": 5
}
