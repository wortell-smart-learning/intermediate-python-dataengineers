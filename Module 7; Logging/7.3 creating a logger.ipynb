{
 "cells": [
  {
   "cell_type": "markdown",
   "id": "5e99df01",
   "metadata": {},
   "source": [
    "# Section 4: Creating a logger\n",
    "Until now, every logging statement has been displayed by using logging.*level*(). It is best practice however, to create your own logger.\n",
    "\n",
    "This can be done with the getLogger() function. There are multiple parameters that can be set to a logger as well. For instance, what levels to display. This solves the issue where logging did not display the information even though we wanted it to.\n",
    "\n",
    "Let's create a logger now!\n",
    "\n",
    "##### ASSIGNMENT 5: create a logger called logger with logging.getLogger()"
   ]
  },
  {
   "cell_type": "code",
   "execution_count": null,
   "id": "8939439d",
   "metadata": {},
   "outputs": [],
   "source": [
    "#### ADD YOUR CODE HERE ####"
   ]
  },
  {
   "cell_type": "markdown",
   "id": "f57cc7c8",
   "metadata": {},
   "source": [
    "##### ASSIGNMENT 6: set the level of the logger to debug. This can be done with the setLevel() method."
   ]
  },
  {
   "cell_type": "code",
   "execution_count": null,
   "id": "459d4e6d",
   "metadata": {},
   "outputs": [],
   "source": [
    "#### ADD YOUR CODE HERE ####"
   ]
  },
  {
   "cell_type": "markdown",
   "id": "f9c9b512",
   "metadata": {},
   "source": [
    "##### ASSIGNMENT 7: print another statement on all different logging levels, but now use the logger you created instead of logging."
   ]
  },
  {
   "cell_type": "code",
   "execution_count": null,
   "id": "e845e3ad",
   "metadata": {},
   "outputs": [],
   "source": [
    "statement2 = 'I bet even debug level will print this.'\n",
    "\n",
    "#### ADD YOUR CODE HERE ####"
   ]
  },
  {
   "cell_type": "markdown",
   "id": "73bb3e4c",
   "metadata": {},
   "source": [
    "## THEORY: use logger.*method*() or logging.*method*()?\n",
    "\n",
    "Now that you have created a logger, try running the code of Assignments 2,3 and 4 again. It should now display all the levels, even if INFO and DEBUG previously were not outputted. \n",
    "\n",
    "This is because since you've replaced the root logger. The root logger is also used by logging.*method*() itself. YOu can see this, because the name of the logger is always displayed in the output as well.\n",
    "\n",
    "To make it less confusing, it is possible to create a logger with its own name. Let's do that now.\n",
    "\n",
    "##### ASSIGNMENT 8: create a logger with its own name by adding the *name=* parameter in the getLogger() function and set its level to INFO."
   ]
  },
  {
   "cell_type": "code",
   "execution_count": null,
   "id": "f246ea2f",
   "metadata": {},
   "outputs": [],
   "source": [
    "#### ADD YOUR CODE HERE ####"
   ]
  },
  {
   "cell_type": "markdown",
   "id": "4154e788",
   "metadata": {},
   "source": [
    "##### ASSIGNMENT 9: print the statement on all different levels again."
   ]
  },
  {
   "cell_type": "code",
   "execution_count": null,
   "id": "88448bc6",
   "metadata": {},
   "outputs": [],
   "source": [
    "statement3 = 'This not logged by the root logger'\n",
    "\n",
    "#### ADD YOUR CODE HERE ####"
   ]
  },
  {
   "cell_type": "markdown",
   "id": "59c33bf0",
   "metadata": {},
   "source": [
    "Please notice two things in this output:\n",
    "1. the name of the logger is now between colons instead of *root*.\n",
    "2. since level is set to INFO, the debug output is not displayed. \n",
    "\n",
    "It is always best practice when creating your own logger to give it a suitable name so that is can be easily distinguished and doesn't overwrite the root logger."
   ]
  }
 ],
 "metadata": {
  "interpreter": {
   "hash": "15b20538a962554200a580dbac694884175b6fc3c353c551da694757f0ccb282"
  },
  "kernelspec": {
   "display_name": "Python 3 (ipykernel)",
   "language": "python",
   "name": "python3"
  },
  "language_info": {
   "codemirror_mode": {
    "name": "ipython",
    "version": 3
   },
   "file_extension": ".py",
   "mimetype": "text/x-python",
   "name": "python",
   "nbconvert_exporter": "python",
   "pygments_lexer": "ipython3",
   "version": "3.9.4"
  }
 },
 "nbformat": 4,
 "nbformat_minor": 5
}
