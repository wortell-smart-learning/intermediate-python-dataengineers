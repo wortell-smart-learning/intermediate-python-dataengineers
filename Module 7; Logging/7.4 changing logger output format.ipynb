{
 "cells": [
  {
   "cell_type": "markdown",
   "id": "0715e328",
   "metadata": {},
   "source": [
    "# Section 5: changing the output format of a logger\n",
    " \n",
    "As you noticed by now, there is a default format in which a logger outputs information, which is:\n",
    "\n",
    "    \"%(levelname)s:%(name)s:%(message)s\"  \n",
    "\n",
    "This format is written in an ancient (i.e. Python2.7) style of string formatting, so it might be a bit hard to read, but should make sense considering you have seen the output it gives.\n",
    "\n",
    "Furthermore, the logger we've created automatically outputs in the console (or in the case of notebooks, the cell), and not yet stored in a file. This is because the default handler that is given to a logger is the [StreamHandler](https://docs.python.org/3/library/logging.handlers.html#logging.StreamHandler), which sends all output to [sys.stderr](https://en.wikipedia.org/wiki/Standard_streams#Standard_error_(stderr)) (this basically means to the terminal, console or notebook cell you are working in).\n",
    "\n",
    "Let's now see how we can change the output format of the logger. This is done in multiple steps: \n",
    "* create a handler (we will use a SteamHandler for now)\n",
    "* create a new format as a string\n",
    "* add the format to the handler\n",
    "* add the handler to the logger we created\n",
    "\n",
    "##### ASSIGNMENT 10: create a new Streamhandler with logging.StreamHandler()"
   ]
  },
  {
   "cell_type": "code",
   "execution_count": null,
   "id": "8fd73b18",
   "metadata": {},
   "outputs": [],
   "source": [
    "#### ADD YOUR CODE HERE ####"
   ]
  },
  {
   "cell_type": "markdown",
   "id": "8213ca1b",
   "metadata": {},
   "source": [
    "##### ASSIGNMENT 11: create a Formatter that includes a timestamp, based on the default string mentioned above. \n",
    "\n",
    "*Hint: %(asctime)s can be used to add a timestamp to the format.* "
   ]
  },
  {
   "cell_type": "code",
   "execution_count": null,
   "id": "7ad556b9",
   "metadata": {},
   "outputs": [],
   "source": [
    "#### ADD YOUR CODE HERE ####\n",
    "new_format = ''\n",
    "#### STOP ADDING YOUR CODE HERE ####\n",
    "\n",
    "new_format = logging.Formatter(new_format)"
   ]
  },
  {
   "cell_type": "markdown",
   "id": "0208941b",
   "metadata": {},
   "source": [
    "##### ASSIGNMENT 12: Add the new format to the handler. This can be done with the setFormatter() method of a handler. "
   ]
  },
  {
   "cell_type": "code",
   "execution_count": null,
   "id": "ac300536",
   "metadata": {},
   "outputs": [],
   "source": [
    "#### ADD YOUR CODE HERE ####"
   ]
  },
  {
   "cell_type": "markdown",
   "id": "f808c5d8",
   "metadata": {},
   "source": [
    "##### ASSIGNMENT 13: Add the handler to your logger. This can be done with the addHandler() method of a logger. "
   ]
  },
  {
   "cell_type": "code",
   "execution_count": null,
   "id": "123ae998",
   "metadata": {},
   "outputs": [],
   "source": [
    "#### ADD YOUR CODE HERE ####"
   ]
  },
  {
   "cell_type": "code",
   "execution_count": null,
   "id": "0c95e871",
   "metadata": {},
   "outputs": [],
   "source": [
    "statement4 = 'Am I seeing double?'\n",
    "\n",
    "#### ADD YOUR CODE HERE ####"
   ]
  },
  {
   "cell_type": "markdown",
   "id": "d9382ac7",
   "metadata": {},
   "source": [
    "It might be the case you are indeed seeing double. Why could this be? Let's look at the [documentation](https://docs.python.org/2/library/logging.html#logging.Logger.propagate):\n",
    "\n",
    "    Logger.propagate\n",
    "\n",
    "    If this evaluates to true, events logged to this logger will be passed to the handlers of higher level (ancestor) loggers, in addition to any handlers attached to this logger. Messages are passed directly to the ancestor loggers’ handlers - neither the level nor filters of the ancestor loggers in question are considered.\n",
    "\n",
    "    If this evaluates to false, logging messages are not passed to the handlers of ancestor loggers.\n",
    "\n",
    "    The constructor sets this attribute to True.\n",
    "\n",
    "Apparently, the logger we created propogates its events to the root logger. But the good thing is we can edit the propagate attribute of the logger we created. Let's do that!\n",
    "\n",
    "##### ASSIGNMENT 14: set the propagate attribute of the logger we created to False and then display statement 4 again of all levels.\n"
   ]
  },
  {
   "cell_type": "code",
   "execution_count": null,
   "id": "59e12ef4",
   "metadata": {},
   "outputs": [],
   "source": [
    "#### ADD YOUR CODE HERE ####"
   ]
  }
 ],
 "metadata": {
  "interpreter": {
   "hash": "15b20538a962554200a580dbac694884175b6fc3c353c551da694757f0ccb282"
  },
  "kernelspec": {
   "display_name": "Python 3 (ipykernel)",
   "language": "python",
   "name": "python3"
  },
  "language_info": {
   "codemirror_mode": {
    "name": "ipython",
    "version": 3
   },
   "file_extension": ".py",
   "mimetype": "text/x-python",
   "name": "python",
   "nbconvert_exporter": "python",
   "pygments_lexer": "ipython3",
   "version": "3.9.4"
  }
 },
 "nbformat": 4,
 "nbformat_minor": 5
}
