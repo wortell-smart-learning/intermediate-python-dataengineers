{
 "cells": [
  {
   "cell_type": "markdown",
   "id": "ffc295e7",
   "metadata": {},
   "source": [
    "One final - and arguably the most useful functionality - remains. How to write output not to sys.stderr but a file! On to the next and final section!\n",
    "\n",
    "# Section 6: Storing output in a file\n",
    "\n",
    "## THEORY: StreamHandler and FileHandler\n",
    "\n",
    "The root logger also comes with a StreamHandler by default. Furthermore, we attached a custom made StreamHandler with specific formatting to the logger that we created. But there is another type of handler, namely the [FileHandler](https://docs.python.org/3/library/logging.handlers.html#logging.FileHandler).\n",
    "\n",
    "This handler - as the name may suggest - outputs the events to a file instead of a stream. As with the StreamHandler, we can create a handler and add it to our logger. However, in the case of a FileHandler, we need to provide a filename when creating the handler. For more information, check the documentation link.\n",
    "\n",
    "##### ASSIGNMENT 15: Create a FileHandler that writes to a file called 'logfile.log'). Do not forget to set a formatter too!\n",
    "\n",
    "*Hint: it is possible to use the same format that was set to the StreamHandler, but also possible to create a new one!*"
   ]
  },
  {
   "cell_type": "code",
   "execution_count": null,
   "id": "4bb50416",
   "metadata": {},
   "outputs": [],
   "source": [
    "#### ADD YOUR CODE HERE ####"
   ]
  },
  {
   "cell_type": "markdown",
   "id": "eff557c8",
   "metadata": {},
   "source": [
    "##### ASSIGNMENT 16: Add the FileHandler to the logger that you created."
   ]
  },
  {
   "cell_type": "code",
   "execution_count": null,
   "id": "668c065d",
   "metadata": {},
   "outputs": [],
   "source": [
    "#### ADD YOUR CODE HERE ####"
   ]
  },
  {
   "cell_type": "markdown",
   "id": "00f0bc94",
   "metadata": {},
   "source": [
    "##### ASSIGNMENT 17: Now write something funny as a statement and log it at all the different levels"
   ]
  },
  {
   "cell_type": "code",
   "execution_count": null,
   "id": "6a22e8f7",
   "metadata": {},
   "outputs": [],
   "source": [
    "statement5 = 'something funny'\n",
    "\n",
    "#### ADD YOUR CODE HERE ####"
   ]
  },
  {
   "cell_type": "markdown",
   "id": "32939761",
   "metadata": {},
   "source": [
    "#### ASSIGNMENT 18: now check what is found in the logfile!"
   ]
  },
  {
   "cell_type": "code",
   "execution_count": null,
   "id": "82f14ee4",
   "metadata": {},
   "outputs": [],
   "source": [
    "#### NO EXTRA CODE NEEDED. JUST RUN THIS CELL :-) ####\n",
    "with open('logfile.log') as f:\n",
    "    print(f.read())"
   ]
  },
  {
   "cell_type": "markdown",
   "id": "a0b2b8f5",
   "metadata": {},
   "source": [
    "Nice! The logger now does two things:\n",
    "* It displays logged events to the cell output with StreamHandler\n",
    "* It saves the logged events to a file. New events are appended to the file instead of overwriting a file. \n",
    "\n",
    "This can be useful, because you can check the current output window if it's conventient, but always fall back to the logfile at any time in the future! You can save important output to files, such as the accuracy of a model while its training, or maybe the metrics of a freshly trained model to compare to other models later.\n",
    "\n",
    "Please notice that the logfile will grow indefinitely. A few solution to alleviate this is to dynamically set the name of the logfile based on a date, e.g. create a logfile for each month. In that case, older irrelevant logfiles can easily be deleted while keeping the more recent logs.\n",
    "\n",
    "Congratulations on completing this module! Below is one more optional exercise to do if you feel like it!\n",
    "\n",
    "##### OPTIONAL ASSIGNMENT 19: create a new logger that outputs all levels to the cell output. but only warnings and higher to a file. Also create a different format for both the StreamHandler and the FileHandler!"
   ]
  },
  {
   "cell_type": "code",
   "execution_count": null,
   "id": "a49c37e5",
   "metadata": {},
   "outputs": [],
   "source": [
    "### FILL IN"
   ]
  }
 ],
 "metadata": {
  "interpreter": {
   "hash": "15b20538a962554200a580dbac694884175b6fc3c353c551da694757f0ccb282"
  },
  "kernelspec": {
   "display_name": "Python 3 (ipykernel)",
   "language": "python",
   "name": "python3"
  },
  "language_info": {
   "codemirror_mode": {
    "name": "ipython",
    "version": 3
   },
   "file_extension": ".py",
   "mimetype": "text/x-python",
   "name": "python",
   "nbconvert_exporter": "python",
   "pygments_lexer": "ipython3",
   "version": "3.9.4"
  }
 },
 "nbformat": 4,
 "nbformat_minor": 5
}
