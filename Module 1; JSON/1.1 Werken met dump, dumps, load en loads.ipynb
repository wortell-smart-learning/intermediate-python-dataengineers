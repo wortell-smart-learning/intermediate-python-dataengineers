{
 "cells": [
  {
   "cell_type": "markdown",
   "id": "11a3e2e1",
   "metadata": {},
   "source": [
    "# Module 1: JSON files\n",
    "\n",
    "There are lot of different file types, and some are more common then others. And others require more work than others. JSON is one of the most important file types.\n",
    "\n",
    "During this training we will go into detail about JSON files, and how to work with them. For those familiar with Python and dictionaries, it will feel quite similar. During the training we will follow the following outline:\n",
    "1. JSON file basics\n",
    "2. The json library\n",
    "3. Navigating a JSON file structure\n",
    "4. JSON to information\n",
    "5. Nested JSON files\n",
    "\n",
    "Enjoy!"
   ]
  },
  {
   "cell_type": "markdown",
   "id": "198da020",
   "metadata": {},
   "source": [
    "Run the following cell to import all necessary libraries."
   ]
  },
  {
   "cell_type": "code",
   "execution_count": null,
   "id": "98e0d2c0",
   "metadata": {},
   "outputs": [],
   "source": [
    "import json\n",
    "import requests\n",
    "import pprint\n",
    "import pandas"
   ]
  },
  {
   "cell_type": "markdown",
   "id": "dd40e954",
   "metadata": {},
   "source": [
    "## Section 1: JSON file basics"
   ]
  },
  {
   "cell_type": "markdown",
   "id": "680b409d",
   "metadata": {},
   "source": [
    "JSON, or **J**ava**S**cript **O**bject **N**otation, is one of the golden standards for information exhange in the world of data. When transporting data, for example throught an API, then JSON is the way to go. JSON has been built to be readable by a lot of programming languages, and that includes Python.\n",
    "\n",
    "Due to its structure, and its widespread availability and accessability, knowledge about JSON is essential for an aspiring data engineer. So let's have a look at those so called JSON files. In the example below we will retrieve a JSON file through an API. The example is about Game of Thrones."
   ]
  },
  {
   "cell_type": "code",
   "execution_count": null,
   "id": "aa1d1718",
   "metadata": {},
   "outputs": [],
   "source": [
    "import requests\n",
    "import pprint\n",
    "\n",
    "URL = \"https://anapioficeandfire.com/api/characters/583\"\n",
    "jon_snow_json = requests.get(URL).json()\n",
    "\n",
    "pprint.pprint(jon_snow_json)\n",
    "# print(jon_snow_json)"
   ]
  },
  {
   "cell_type": "markdown",
   "id": "b6d7084d",
   "metadata": {},
   "source": [
    "The example above shows the structure of a JSON file. And as you can see, a JSON file is very structured. \n",
    "JSON files are based on key-value pairs. With each key corresponding to a specific file. The keys can be used to navigate around the JSON file.\n",
    "One important thing to note is that JSON files are extremely flexible. Almost any key can be used.\n",
    "There is also a lot of flexibility in the values of the JSON."
   ]
  },
  {
   "cell_type": "markdown",
   "id": "21dedea5",
   "metadata": {},
   "source": [
    "The JSON example above is retrieved from a service about the world of Game of Thrones (spoilers). We retrieved information about Jon Snow, an important character in the books and show. The JSON file contains information about this character. Each key contains values with information about what is known. For example, you can see the following things in the JSON file.\n",
    "- The name, which is of course Jon Snow.\n",
    "- There is also information about the father, and the mother (both are empty in this case).\n",
    "- We can find which seasons and which books the character is present.\n",
    "- And, interestingly, a list of aliases for the character.\n",
    "\n",
    "If you look closely in the JSON, you can find these points of information, as well as other information.\n",
    "\n",
    "One thing to remember is that you can see a JSON as one long string. And using Python (and the json library) we can decode those strings and work with them. Also, we can encode Python objects as JSON strings. We can do these things with the json library. \n",
    "\n",
    "For those with experience in Python; a JSON structure is very similar to the structure of a Python dictionary."
   ]
  },
  {
   "cell_type": "markdown",
   "id": "7100f0db",
   "metadata": {},
   "source": [
    "## Section 2: The json library"
   ]
  },
  {
   "cell_type": "markdown",
   "id": "3aed0bb9",
   "metadata": {},
   "source": [
    "Now that we had a look at the structure of a JSON file, we want to work with it! And we want to work with in Python!\n",
    "For working with JSON files we can use the appropriately named json library.\n",
    "\n",
    "With the json library we can do a lot of things regarding json files, including:\n",
    "- Decode JSON files so that we can use them within Python.\n",
    "- Encode Python objects so that we can store them as JSON files."
   ]
  },
  {
   "cell_type": "markdown",
   "id": "8e49e570",
   "metadata": {},
   "source": [
    "The json library is essential in working with JSON files within Python. As with (almost) all decent libraries, there is an extensive amount of documentation that can help you understand the functionalities of the library. \n",
    "\n",
    "While working with Python it is essential that you learn how to read documentation. This will help speed your work up, and improve your understanding of the library. So, have a look: https://docs.python.org/3/library/json.html. "
   ]
  },
  {
   "cell_type": "markdown",
   "id": "63849834",
   "metadata": {},
   "source": [
    "Let's see what we can do with the json library. We're going to have a look at four of the functionalities of the library:\n",
    "- json.dumps\n",
    "- json.dump\n",
    "- json.loads\n",
    "- json.load"
   ]
  },
  {
   "cell_type": "markdown",
   "id": "60c3aa37",
   "metadata": {},
   "source": [
    "Let's first create a Python dictionary that we can use as a basis for our examples. See below."
   ]
  },
  {
   "cell_type": "code",
   "execution_count": null,
   "id": "7328b168",
   "metadata": {},
   "outputs": [],
   "source": [
    "import json\n",
    "\n",
    "json_structure_example = {\"name\": \"Roger Federer\",\n",
    "                          \"age\": 40,\n",
    "                          \"occupation\": \"Professional tennis player\"}"
   ]
  },
  {
   "cell_type": "markdown",
   "id": "cff5616f",
   "metadata": {},
   "source": [
    "Using the method of 'json.dumps' we can convert the Python dictionary to a JSON string. In that way Python will see it as a string."
   ]
  },
  {
   "cell_type": "code",
   "execution_count": null,
   "id": "4a13a67e",
   "metadata": {},
   "outputs": [],
   "source": [
    "# Use json.dumps\n",
    "json_string = json.dumps(json_structure_example)\n",
    "\n",
    "print(json_string)\n",
    "print(type(json_string))"
   ]
  },
  {
   "cell_type": "markdown",
   "id": "cae10b6d",
   "metadata": {},
   "source": [
    "We can also save our created dictionary as a JSON file. We can use the method of 'json.dump'."
   ]
  },
  {
   "cell_type": "code",
   "execution_count": null,
   "id": "805af76c",
   "metadata": {},
   "outputs": [],
   "source": [
    "# Use json.dump\n",
    "file_name = \"my_first_json.json\"\n",
    "\n",
    "with open(file_name, \"w\") as file:\n",
    "    json.dump(json_structure_example, file, indent='\\t\\t\\n\\t\\t')"
   ]
  },
  {
   "cell_type": "markdown",
   "id": "b70bb4df",
   "metadata": {},
   "source": [
    "So, we can use the 'json.dumps' to create a JSON string, and we can use the 'json.dump' to create a JSON string and save it as a JSON file.\n",
    "\n",
    "Now let's look at reading JSON files. The 'json.loads' can read JSON strings and convert them to Python dictionaries."
   ]
  },
  {
   "cell_type": "code",
   "execution_count": null,
   "id": "9908ab1e",
   "metadata": {},
   "outputs": [],
   "source": [
    "print(json_string)\n",
    "print(type(json_string))\n",
    "\n",
    "converted_json_string = json.loads(json_string)\n",
    "print(converted_json_string)\n",
    "print(type(converted_json_string))"
   ]
  },
  {
   "cell_type": "markdown",
   "id": "6e3600b7",
   "metadata": {},
   "source": [
    "And using the 'json.load' method, we can read JSON files and load them as Python dictionaries."
   ]
  },
  {
   "cell_type": "code",
   "execution_count": null,
   "id": "199fff50",
   "metadata": {},
   "outputs": [],
   "source": [
    "file_name = \"my_first_json.json\"\n",
    "\n",
    "with open(\"my_first_json.json\", \"r\") as file:\n",
    "    loaded_json = json.load(file)\n",
    "\n",
    "print(loaded_json)"
   ]
  },
  {
   "cell_type": "markdown",
   "id": "3723abb5",
   "metadata": {},
   "source": [
    "Now that we seen the most important methods of the json library, it's your turn to try them out. Please complete the following assigments."
   ]
  },
  {
   "cell_type": "markdown",
   "id": "e04dc503",
   "metadata": {},
   "source": [
    "#### Assignment 1: The json library 1\n",
    "\n",
    "Create your own Python dictionary, with your name, age and occupation."
   ]
  },
  {
   "cell_type": "code",
   "execution_count": null,
   "id": "277ec3cd",
   "metadata": {},
   "outputs": [],
   "source": [
    "### FILL IN"
   ]
  },
  {
   "cell_type": "markdown",
   "id": "3065da62",
   "metadata": {},
   "source": [
    "#### Assignment 2: The json library 2\n",
    "\n",
    "Convert your dictionary to a JSON string, and print it.\n",
    "Use the 'json.dumps' method."
   ]
  },
  {
   "cell_type": "code",
   "execution_count": null,
   "id": "5c72ed18",
   "metadata": {},
   "outputs": [],
   "source": [
    "### FILL IN"
   ]
  },
  {
   "cell_type": "markdown",
   "id": "f1b15ebe",
   "metadata": {},
   "source": [
    "#### Assignment 3: The json library 3\n",
    "\n",
    "Save your dictionary as a JSON file with the name \"my_second_json.json\".\n",
    "Use the json.dump' method."
   ]
  },
  {
   "cell_type": "code",
   "execution_count": null,
   "id": "1724d0dd",
   "metadata": {},
   "outputs": [],
   "source": [
    "### FILL IN"
   ]
  },
  {
   "cell_type": "markdown",
   "id": "48eaa15d",
   "metadata": {},
   "source": [
    "#### Assignment 4: The json library 4\n",
    "\n",
    "Read your save JSON file and print it. It should have the name: \"my_second_json.json\".\n",
    "Use the 'json.load' method."
   ]
  },
  {
   "cell_type": "code",
   "execution_count": null,
   "id": "85dea893",
   "metadata": {},
   "outputs": [],
   "source": [
    "### FILL IN"
   ]
  },
  {
   "cell_type": "markdown",
   "id": "9fca3c8e",
   "metadata": {},
   "source": [
    "#### Assignment 5: The json library 5\n",
    "\n",
    "Create a JSON string from your Python dictionary, and than convert it back to a Python dictionary.\n",
    "First use the 'json.dumps' method, and then use the 'json.loads' method."
   ]
  },
  {
   "cell_type": "code",
   "execution_count": null,
   "id": "7c9974ca",
   "metadata": {},
   "outputs": [],
   "source": [
    "### FILL IN"
   ]
  },
  {
   "cell_type": "markdown",
   "id": "9faff9b3",
   "metadata": {},
   "source": [
    "Good job! These steps should give you some insight in how JSON files are structured, and how we can read, load and save them within Python."
   ]
  }
 ],
 "metadata": {
  "kernelspec": {
   "display_name": "Python 3 (ipykernel)",
   "language": "python",
   "name": "python3"
  },
  "language_info": {
   "codemirror_mode": {
    "name": "ipython",
    "version": 3
   },
   "file_extension": ".py",
   "mimetype": "text/x-python",
   "name": "python",
   "nbconvert_exporter": "python",
   "pygments_lexer": "ipython3",
   "version": "3.9.4"
  }
 },
 "nbformat": 4,
 "nbformat_minor": 5
}
