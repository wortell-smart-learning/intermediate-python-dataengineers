{
 "cells": [
  {
   "cell_type": "markdown",
   "id": "11a3e2e1",
   "metadata": {},
   "source": [
    "# Module 1: JSON files\n",
    "\n",
    "There are lot of different file types, and some are more common then others. And others require more work than others. JSON is one of the most important file types.\n",
    "\n",
    "During this training we will go into detail about JSON files, and how to work with them. For those familiar with Python and dictionaries, it will feel quite similar. During the training we will follow the following outline:\n",
    "1. JSON file basics\n",
    "2. The json library\n",
    "3. Navigating a JSON file structure\n",
    "4. JSON to information\n",
    "5. Nested JSON files\n",
    "\n",
    "Enjoy!"
   ]
  },
  {
   "cell_type": "markdown",
   "id": "198da020",
   "metadata": {},
   "source": [
    "Run the following cell to import all necessary libraries."
   ]
  },
  {
   "cell_type": "code",
   "execution_count": null,
   "id": "98e0d2c0",
   "metadata": {},
   "outputs": [],
   "source": [
    "import json\n",
    "import requests\n",
    "import pprint\n",
    "import pandas"
   ]
  },
  {
   "cell_type": "markdown",
   "id": "dd40e954",
   "metadata": {},
   "source": [
    "## Section 1: JSON file basics"
   ]
  },
  {
   "cell_type": "markdown",
   "id": "680b409d",
   "metadata": {},
   "source": [
    "JSON, or **J**ava**S**cript **O**bject **N**otation, is one of the golden standards for information exhange in the world of data. When transporting data, for example throught an API, then JSON is the way to go. JSON has been built to be readable by a lot of programming languages, and that includes Python.\n",
    "\n",
    "Due to its structure, and its widespread availability and accessability, knowledge about JSON is essential for an aspiring data engineer. So let's have a look at those so called JSON files. In the example below we will retrieve a JSON file through an API. The example is about Game of Thrones."
   ]
  },
  {
   "cell_type": "code",
   "execution_count": null,
   "id": "aa1d1718",
   "metadata": {},
   "outputs": [],
   "source": [
    "import requests\n",
    "import pprint\n",
    "\n",
    "URL = \"https://anapioficeandfire.com/api/characters/583\"\n",
    "jon_snow_json = requests.get(URL).json()\n",
    "\n",
    "pprint.pprint(jon_snow_json)\n",
    "# print(jon_snow_json)"
   ]
  },
  {
   "cell_type": "markdown",
   "id": "b6d7084d",
   "metadata": {},
   "source": [
    "The example above shows the structure of a JSON file. And as you can see, a JSON file is very structured. \n",
    "JSON files are based on key-value pairs. With each key corresponding to a specific file. The keys can be used to navigate around the JSON file.\n",
    "One important thing to note is that JSON files are extremely flexible. Almost any key can be used.\n",
    "There is also a lot of flexibility in the values of the JSON."
   ]
  },
  {
   "cell_type": "markdown",
   "id": "21dedea5",
   "metadata": {},
   "source": [
    "The JSON example above is retrieved from a service about the world of Game of Thrones (spoilers). We retrieved information about Jon Snow, an important character in the books and show. The JSON file contains information about this character. Each key contains values with information about what is known. For example, you can see the following things in the JSON file.\n",
    "- The name, which is of course Jon Snow.\n",
    "- There is also information about the father, and the mother (both are empty in this case).\n",
    "- We can find which seasons and which books the character is present.\n",
    "- And, interestingly, a list of aliases for the character.\n",
    "\n",
    "If you look closely in the JSON, you can find these points of information, as well as other information.\n",
    "\n",
    "One thing to remember is that you can see a JSON as one long string. And using Python (and the json library) we can decode those strings and work with them. Also, we can encode Python objects as JSON strings. We can do these things with the json library. \n",
    "\n",
    "For those with experience in Python; a JSON structure is very similar to the structure of a Python dictionary."
   ]
  },
  {
   "cell_type": "markdown",
   "id": "7100f0db",
   "metadata": {},
   "source": [
    "## Section 2: The json library"
   ]
  },
  {
   "cell_type": "markdown",
   "id": "3aed0bb9",
   "metadata": {},
   "source": [
    "Now that we had a look at the structure of a JSON file, we want to work with it! And we want to work with in Python!\n",
    "For working with JSON files we can use the appropriately named json library.\n",
    "\n",
    "With the json library we can do a lot of things regarding json files, including:\n",
    "- Decode JSON files so that we can use them within Python.\n",
    "- Encode Python objects so that we can store them as JSON files."
   ]
  },
  {
   "cell_type": "markdown",
   "id": "8e49e570",
   "metadata": {},
   "source": [
    "The json library is essential in working with JSON files within Python. As with (almost) all decent libraries, there is an extensive amount of documentation that can help you understand the functionalities of the library. \n",
    "\n",
    "While working with Python it is essential that you learn how to read documentation. This will help speed your work up, and improve your understanding of the library. So, have a look: https://docs.python.org/3/library/json.html. "
   ]
  },
  {
   "cell_type": "markdown",
   "id": "63849834",
   "metadata": {},
   "source": [
    "Let's see what we can do with the json library. We're going to have a look at four of the functionalities of the library:\n",
    "- json.dumps\n",
    "- json.dump\n",
    "- json.loads\n",
    "- json.load"
   ]
  },
  {
   "cell_type": "markdown",
   "id": "60c3aa37",
   "metadata": {},
   "source": [
    "Let's first create a Python dictionary that we can use as a basis for our examples. See below."
   ]
  },
  {
   "cell_type": "code",
   "execution_count": null,
   "id": "7328b168",
   "metadata": {},
   "outputs": [],
   "source": [
    "import json\n",
    "\n",
    "json_structure_example = {\"name\": \"Roger Federer\",\n",
    "                          \"age\": 40,\n",
    "                          \"occupation\": \"Professional tennis player\"}"
   ]
  },
  {
   "cell_type": "markdown",
   "id": "cff5616f",
   "metadata": {},
   "source": [
    "Using the method of 'json.dumps' we can convert the Python dictionary to a JSON string. In that way Python will see it as a string."
   ]
  },
  {
   "cell_type": "code",
   "execution_count": null,
   "id": "4a13a67e",
   "metadata": {},
   "outputs": [],
   "source": [
    "# Use json.dumps\n",
    "json_string = json.dumps(json_structure_example)\n",
    "\n",
    "print(json_string)\n",
    "print(type(json_string))"
   ]
  },
  {
   "cell_type": "markdown",
   "id": "cae10b6d",
   "metadata": {},
   "source": [
    "We can also save our created dictionary as a JSON file. We can use the method of 'json.dump'."
   ]
  },
  {
   "cell_type": "code",
   "execution_count": null,
   "id": "805af76c",
   "metadata": {},
   "outputs": [],
   "source": [
    "# Use json.dump\n",
    "file_name = \"my_first_json.json\"\n",
    "\n",
    "with open(file_name, \"w\") as file:\n",
    "    json.dump(json_structure_example, file, indent=4)"
   ]
  },
  {
   "cell_type": "markdown",
   "id": "b70bb4df",
   "metadata": {},
   "source": [
    "So, we can use the 'json.dumps' to create a JSON string, and we can use the 'json.dump' to create a JSON string and save it as a JSON file.\n",
    "\n",
    "Now let's look at reading JSON files. The 'json.loads' can read JSON strings and convert them to Python dictionaries."
   ]
  },
  {
   "cell_type": "code",
   "execution_count": null,
   "id": "9908ab1e",
   "metadata": {},
   "outputs": [],
   "source": [
    "print(json_string)\n",
    "print(type(json_string))\n",
    "\n",
    "converted_json_string = json.loads(json_string)\n",
    "print(converted_json_string)\n",
    "print(type(converted_json_string))"
   ]
  },
  {
   "cell_type": "markdown",
   "id": "6e3600b7",
   "metadata": {},
   "source": [
    "And using the 'json.load' method, we can read JSON files and load them as Python dictionaries."
   ]
  },
  {
   "cell_type": "code",
   "execution_count": null,
   "id": "199fff50",
   "metadata": {},
   "outputs": [],
   "source": [
    "file_name = \"my_first_json.json\"\n",
    "\n",
    "with open(\"my_first_json.json\", \"r\") as file:\n",
    "    loaded_json = json.load(file)\n",
    "\n",
    "print(loaded_json)"
   ]
  },
  {
   "cell_type": "markdown",
   "id": "3723abb5",
   "metadata": {},
   "source": [
    "Now that we seen the most important methods of the json library, it's your turn to try them out. Please complete the following assigments."
   ]
  },
  {
   "cell_type": "markdown",
   "id": "e04dc503",
   "metadata": {},
   "source": [
    "#### Assignment 1: The json library 1\n",
    "\n",
    "Create your own Python dictionary, with your name, age and occupation."
   ]
  },
  {
   "cell_type": "code",
   "execution_count": null,
   "id": "277ec3cd",
   "metadata": {},
   "outputs": [],
   "source": [
    "### FILL IN\n",
    "my_dictionary = {\"name\": \"Bas\",\n",
    "                 \"age\": 29,\n",
    "                 \"occupation\": \"Trainer for today!\"}\n",
    "\n",
    "print(my_dictionary)"
   ]
  },
  {
   "cell_type": "markdown",
   "id": "3065da62",
   "metadata": {},
   "source": [
    "#### Assignment 2: The json library 2\n",
    "\n",
    "Convert your dictionary to a JSON string, and print it.\n",
    "Use the 'json.dumps' method."
   ]
  },
  {
   "cell_type": "code",
   "execution_count": null,
   "id": "5c72ed18",
   "metadata": {},
   "outputs": [],
   "source": [
    "### FILL IN\n",
    "\n",
    "json.dumps(my_dictionary)"
   ]
  },
  {
   "cell_type": "markdown",
   "id": "f1b15ebe",
   "metadata": {},
   "source": [
    "#### Assignment 3: The json library 3\n",
    "\n",
    "Save your dictionary as a JSON file with the name \"my_second_json.json\".\n",
    "Use the json.dump' method."
   ]
  },
  {
   "cell_type": "code",
   "execution_count": null,
   "id": "1724d0dd",
   "metadata": {},
   "outputs": [],
   "source": [
    "### FILL IN\n",
    "\n",
    "file_name = \"my_second_json.json\"\n",
    "\n",
    "with open(file_name, \"w\") as file:\n",
    "    json.dump(json_structure_example, file, indent='\\t\\t\\n\\t\\t')"
   ]
  },
  {
   "cell_type": "markdown",
   "id": "48eaa15d",
   "metadata": {},
   "source": [
    "#### Assignment 4: The json library 4\n",
    "\n",
    "Read your save JSON file and print it. It should have the name: \"my_second_json.json\".\n",
    "Use the 'json.load' method."
   ]
  },
  {
   "cell_type": "code",
   "execution_count": null,
   "id": "85dea893",
   "metadata": {},
   "outputs": [],
   "source": [
    "### FILL IN\n",
    "\n",
    "with open(\"my_second_json.json\", \"r\") as file:\n",
    "    loaded_json = json.load(file)\n",
    "print(loaded_json)"
   ]
  },
  {
   "cell_type": "markdown",
   "id": "9fca3c8e",
   "metadata": {},
   "source": [
    "#### Assignment 5: The json library 5\n",
    "\n",
    "Create a JSON string from your Python dictionary, and than convert it back to a Python dictionary.\n",
    "First use the 'json.dumps' method, and then use the 'json.loads' method."
   ]
  },
  {
   "cell_type": "code",
   "execution_count": null,
   "id": "7c9974ca",
   "metadata": {},
   "outputs": [],
   "source": [
    "### FILL IN\n",
    "\n",
    "dict_string = json.dumps(my_dictionary)\n",
    "just_dict = json.loads(dict_string)\n",
    "\n",
    "print(dict_string)\n",
    "print(type(dict_string))\n",
    "\n",
    "print(just_dict)\n",
    "print(type(just_dict))"
   ]
  },
  {
   "cell_type": "markdown",
   "id": "9faff9b3",
   "metadata": {},
   "source": [
    "Good job! These steps should give you some insight in how JSON files are structured, and how we can read, load and save them within Python."
   ]
  },
  {
   "cell_type": "markdown",
   "id": "572bad7b",
   "metadata": {},
   "source": [
    "## Section 3: Navigating a JSON file structure"
   ]
  },
  {
   "cell_type": "markdown",
   "id": "6183a8d9",
   "metadata": {},
   "source": [
    "We had a touch of the json library. We had our first of taste of saving a json file and loading a json file.\n",
    "Let's move on to the most important part of JSON files. Navigating them.\n",
    "\n",
    "The json library can convert a JSON file to a Python dictionary, and that's how can navigate it. This means that you can index JSON files by their keys.\n",
    "\n",
    "Let's have a look at an example. "
   ]
  },
  {
   "cell_type": "code",
   "execution_count": null,
   "id": "00c912cf",
   "metadata": {},
   "outputs": [],
   "source": [
    "### You can retrieve any key of a dictionary by indexing it on the dictionary.\n",
    "json_structure_example = {\"name\": \"Roger Federer\",\n",
    "                          \"age\": 40,\n",
    "                          \"occupation\": \"Professional tennis player\"}\n",
    "\n",
    "print(json_structure_example[\"name\"])"
   ]
  },
  {
   "cell_type": "code",
   "execution_count": null,
   "id": "377777d6",
   "metadata": {},
   "outputs": [],
   "source": [
    "for key in json_structure_example:\n",
    "    print(key)\n",
    "    print(json_structure_example[key])"
   ]
  },
  {
   "cell_type": "markdown",
   "id": "92bb0858",
   "metadata": {},
   "source": [
    "This is how you can access information in JSON files. Now it's your turn to try it. Let's use the example about Jon Snow."
   ]
  },
  {
   "cell_type": "code",
   "execution_count": null,
   "id": "0d020c42",
   "metadata": {},
   "outputs": [],
   "source": [
    "import requests\n",
    "import pprint\n",
    "\n",
    "URL = \"https://anapioficeandfire.com/api/characters/583\"\n",
    "jon_snow_json = requests.get(URL).json()\n",
    "\n",
    "pprint.pprint(jon_snow_json)"
   ]
  },
  {
   "cell_type": "markdown",
   "id": "72c5bd30",
   "metadata": {},
   "source": [
    "In the following assignments you will try and navigate the JSON file."
   ]
  },
  {
   "cell_type": "markdown",
   "id": "0cca7fd5",
   "metadata": {},
   "source": [
    "#### Assignment 7: Navigating a JSON file structure 1\n",
    "\n",
    "From the 'jon_snow_json', print all keys.\n",
    "Use a for loop."
   ]
  },
  {
   "cell_type": "code",
   "execution_count": null,
   "id": "c9b38592",
   "metadata": {},
   "outputs": [],
   "source": [
    "### FILL IN\n",
    "for key in jon_snow_json:\n",
    "    print(key)\n",
    "    \n",
    "for key, value in jon_snow_json.items():\n",
    "    print(key, value)"
   ]
  },
  {
   "cell_type": "markdown",
   "id": "cec60045",
   "metadata": {},
   "source": [
    "#### Assignment 7: Navigating a JSON file structure 2\n",
    "\n",
    "From the 'jon_snow_json', print all keys that have empty values.\n",
    "Use a for loop."
   ]
  },
  {
   "cell_type": "code",
   "execution_count": null,
   "id": "87962252",
   "metadata": {},
   "outputs": [],
   "source": [
    "### FILL IN\n",
    "\n",
    "for key in jon_snow_json:\n",
    "    if not jon_snow_json[key]:\n",
    "        print(key)"
   ]
  },
  {
   "cell_type": "markdown",
   "id": "f9f6239c",
   "metadata": {},
   "source": [
    "#### Assignment 8: Navigating a JSON file structure 3\n",
    "\n",
    "From the 'jon_snow_json', print every value that is part of a list.\n",
    "Use a for loop."
   ]
  },
  {
   "cell_type": "code",
   "execution_count": null,
   "id": "08808866",
   "metadata": {},
   "outputs": [],
   "source": [
    "### FILL IN\n",
    "\n",
    "for key in jon_snow_json:\n",
    "    if type(jon_snow_json[key]) == list:\n",
    "        print(key)"
   ]
  },
  {
   "cell_type": "markdown",
   "id": "f595f238",
   "metadata": {},
   "source": [
    "JSON files can also be manipulated. You can add or adjust information according to your views. In the following assignments we will have a small taste of that."
   ]
  },
  {
   "cell_type": "markdown",
   "id": "7f2cfaec",
   "metadata": {},
   "source": [
    "#### Assignment 9: Navigating a JSON file structure 4\n",
    "\n",
    "In the loaded json, add the following values for the following keys.\n",
    "'mother': 'Lyanna Stark'\n",
    "'father': 'Rhaeger Targaryen'"
   ]
  },
  {
   "cell_type": "code",
   "execution_count": null,
   "id": "62b47fdd",
   "metadata": {},
   "outputs": [],
   "source": [
    "### FILL IN\n",
    "\n",
    "jon_snow_json['mother'] = 'Lyanna Stark'\n",
    "jon_snow_json['father'] = 'Rhaegar Targaryen'\n",
    "\n",
    "print(jon_snow_json['mother'])\n",
    "print(jon_snow_json['father'])"
   ]
  },
  {
   "cell_type": "markdown",
   "id": "1a661ea7",
   "metadata": {},
   "source": [
    "#### Assignment 10: Navigating a JSON file structure 5\n",
    "\n",
    "In the loaded json, add the following values to the 'tvSeries' key; 'Season 7' and 'Season 8'."
   ]
  },
  {
   "cell_type": "code",
   "execution_count": null,
   "id": "76eab77e",
   "metadata": {},
   "outputs": [],
   "source": [
    "### FILL IN\n",
    "\n",
    "print(jon_snow_json['tvSeries'])\n",
    "jon_snow_json['tvSeries'].extend(['Season 7', 'Season 8'])\n",
    "print(jon_snow_json['tvSeries'])"
   ]
  },
  {
   "cell_type": "markdown",
   "id": "d7b98577",
   "metadata": {},
   "source": [
    "Great job! Keep it going! :)"
   ]
  },
  {
   "cell_type": "markdown",
   "id": "a4d592bf",
   "metadata": {},
   "source": [
    "## Section 4: JSON to information"
   ]
  },
  {
   "cell_type": "markdown",
   "id": "a56e21bb",
   "metadata": {},
   "source": [
    "Manipulating a json file through a dictionary is quite straightforward. But the complexity changes with larger json files and dictionaries. The most important skill to develop is retrieving and storing information from JSON files / dictionaries. \n",
    "\n",
    "JSON files are readable by computers and by humans. But sometimes you'll want to convert a JSON file to another structure, such as lists or pandas DataFrames. In this section we'll have a look at extracting information from JSON files.\n",
    "\n",
    "First we'll download a larger JSON file. And then you'll get to work on some larger assignments."
   ]
  },
  {
   "cell_type": "code",
   "execution_count": null,
   "id": "b5e3bda4",
   "metadata": {},
   "outputs": [],
   "source": [
    "import requests\n",
    "import pprint\n",
    "\n",
    "URL = \"https://anapioficeandfire.com/api/houses\"\n",
    "larger_json_file_1 = requests.get(URL, params={\"region\": \"The North\", \"page\": 5}).json()\n",
    "\n",
    "# Print the first entry in the JSON file.\n",
    "pprint.pprint(larger_json_file_1)"
   ]
  },
  {
   "cell_type": "markdown",
   "id": "c7d5b462",
   "metadata": {},
   "source": [
    "We retrieved another JSON file. As you can see, this is a larger file. This file contains information on some houses present in the world of Game of Thrones. There are 10 entries in total."
   ]
  },
  {
   "cell_type": "markdown",
   "id": "3560cb46",
   "metadata": {},
   "source": [
    "#### Assignment 11: JSON to information 1\n",
    "\n",
    "Retrieve all values for the following keys; 'name', 'region', 'coatOfArms', 'words', and put them in separate lists. \n",
    "Use a for loop to fill the lists."
   ]
  },
  {
   "cell_type": "code",
   "execution_count": null,
   "id": "15aa2c03",
   "metadata": {},
   "outputs": [],
   "source": [
    "### FILL IN\n",
    "\n",
    "list_1, list_2, list_3, list_4 = [], [], [], []\n",
    "\n",
    "for house in larger_json_file_1:\n",
    "    list_1.append(house['name'])\n",
    "    list_2.append(house['region'])\n",
    "    list_3.append(house['coatOfArms'])\n",
    "    list_4.append(house['words'])\n",
    "    \n",
    "print(list_1, '\\n')\n",
    "print(list_2, '\\n')\n",
    "print(list_3, '\\n')\n",
    "print(list_4, '\\n')"
   ]
  },
  {
   "cell_type": "markdown",
   "id": "dbeaf819",
   "metadata": {},
   "source": [
    "#### Assigment 12: JSON to information 2\n",
    "\n",
    "Create a pandas dataframe with information for each house from the JSON file. The following pieces of information should be present in the columns: 'name', 'region', 'coatOfArms', 'words', 'seats', 'titles', 'currentLord'.\n",
    "Use a for loop to fill the pandas dataframe."
   ]
  },
  {
   "cell_type": "code",
   "execution_count": null,
   "id": "377a91aa",
   "metadata": {},
   "outputs": [],
   "source": [
    "### FILL IN\n",
    "\n",
    "import pandas as pd\n",
    "\n",
    "df = pd.DataFrame(columns=['name', 'region', 'coatOfArms'])\n",
    "\n",
    "for i, house in enumerate(larger_json_file_1):\n",
    "    df.loc[i] = [house['name'], house['region'], house['coatOfArms']]\n",
    "    \n",
    "display(df)"
   ]
  },
  {
   "cell_type": "markdown",
   "id": "0ed8bfd8",
   "metadata": {},
   "source": [
    "Now let's retrieve another JSON file. It's important to work with a few different files with a bit of variation. This will help you understand the structure of JSON files even better."
   ]
  },
  {
   "cell_type": "code",
   "execution_count": null,
   "id": "f089c61f",
   "metadata": {},
   "outputs": [],
   "source": [
    "import requests\n",
    "import pprint\n",
    "\n",
    "URL = \"https://hp-api.onrender.com/api/characters\"\n",
    "potter_json = requests.get(URL).json()\n",
    "\n",
    "# Print the first entry in the JSON file.\n",
    "pprint.pprint(potter_json)"
   ]
  },
  {
   "cell_type": "markdown",
   "id": "bbfdf9e3",
   "metadata": {},
   "source": [
    "We just retrieved an even larger JSON file on Harry Potter characters. Now it's your turn to retrieve information from this JSON file and convert it to a pandas DataFrame."
   ]
  },
  {
   "cell_type": "markdown",
   "id": "eaed6cdb",
   "metadata": {},
   "source": [
    "#### Assigment 13: JSON to information 3\n",
    "\n",
    "Fill lists with information on each character from the JSON file. The following pieces of information should be present in the separate lists: 'name', 'actor', 'dateOfBirth', 'gender', 'eyeColour'.\n",
    "Use a for loop to fill the lists."
   ]
  },
  {
   "cell_type": "code",
   "execution_count": null,
   "id": "43fd1b63",
   "metadata": {},
   "outputs": [],
   "source": [
    "### FILL IN\n",
    "\n",
    "list_1, list_2, list_3, list_4, list_5 = [], [], [], [], []\n",
    "\n",
    "for character in potter_json:\n",
    "    list_1.append(character['name'])\n",
    "    list_2.append(character['actor'])\n",
    "    list_3.append(character['dateOfBirth'])\n",
    "    list_4.append(character['gender'])\n",
    "    list_5.append(character['eyeColour'])\n",
    "    \n",
    "print(list_1[:10])\n",
    "print(list_2[:10])\n",
    "print(list_3[:10])\n",
    "print(list_4[:10])\n",
    "print(list_5[:10])"
   ]
  },
  {
   "cell_type": "markdown",
   "id": "94895d3e",
   "metadata": {},
   "source": [
    "#### Assigment 14: JSON to information 4\n",
    "\n",
    "Create a pandas dataframe with the information for characters from the JSON file, but only for characters that are wizards. Use the 'wizard' key in order to determine whether a character is a wizard.\n",
    "\n",
    "The following pieces of information should be present in the columns: 'name', 'house', 'wand', 'patronus'.\n",
    "Use a for loop to fill the pandas dataframe."
   ]
  },
  {
   "cell_type": "code",
   "execution_count": null,
   "id": "fa8e395f",
   "metadata": {},
   "outputs": [],
   "source": [
    "### FILL IN\n",
    "\n",
    "list_1, list_2, list_3, list_4 = [], [], [], []\n",
    "\n",
    "for character in potter_json:\n",
    "    if character['wizard']:\n",
    "        list_1.append(character['name'])\n",
    "        list_2.append(character['house'])\n",
    "        list_3.append(character['wand'])\n",
    "        list_4.append(character['patronus'])\n",
    "\n",
    "df = pd.DataFrame(columns=['name', 'house', 'wand', 'patronus'])\n",
    "\n",
    "for i in range(len(list_1)):\n",
    "    df.loc[i] = [list_1[i], list_2[i], list_3[i], list_4[i]]\n",
    "    \n",
    "display(df)"
   ]
  },
  {
   "cell_type": "markdown",
   "id": "00068501",
   "metadata": {},
   "source": [
    "#### Assigment 15: JSON to information 5\n",
    "\n",
    "Create a pandas dataframe with information on the characters and their wands in the JSON file, but only for characters that have wands. Have a closer look at the 'wand' key.\n",
    "\n",
    "The following pieces of information should be present in the columns: 'name', 'core', 'length', 'wood'.\n",
    "Use a for loop to fill the pandas dataframe."
   ]
  },
  {
   "cell_type": "code",
   "execution_count": null,
   "id": "a4cc33fe",
   "metadata": {},
   "outputs": [],
   "source": [
    "### FILL IN.\n",
    "\n",
    "list_1, list_2, list_3, list_4 = [], [], [], []\n",
    "\n",
    "for character in potter_json:\n",
    "    if character['wand']['wood']:\n",
    "        list_1.append(character['name'])\n",
    "        list_2.append(character['wand']['wood'])\n",
    "        list_3.append(character['wand']['core'])\n",
    "        list_4.append(character['wand']['length'])\n",
    "        \n",
    "df = pd.DataFrame(columns=['name', 'house', 'wand', 'patronus'])\n",
    "\n",
    "for i in range(len(list_1)):\n",
    "    df.loc[i] = [list_1[i], list_2[i], list_3[i], list_4[i]]\n",
    "    \n",
    "display(df)"
   ]
  },
  {
   "cell_type": "markdown",
   "id": "a41c7915",
   "metadata": {},
   "source": [
    "#### Assigment 16: JSON to information 6\n",
    "\n",
    "This is smaller, easier assignment. Use the powerfull pandas library in order to read the Potter dictionary, and convert it at once to a pandas DataFrame.\n",
    "Use the pandas.from_dict (https://pandas.pydata.org/docs/reference/api/pandas.DataFrame.from_dict.html) method."
   ]
  },
  {
   "cell_type": "code",
   "execution_count": null,
   "id": "9a613cca",
   "metadata": {},
   "outputs": [],
   "source": [
    "### FILL IN\n",
    "\n",
    "df = pd.DataFrame.from_dict(potter_json)\n",
    "display(df)"
   ]
  },
  {
   "cell_type": "markdown",
   "id": "ac5d4670",
   "metadata": {},
   "source": [
    "## Section 5: Nested JSON files\n",
    "\n",
    "Up until now the JSON files were quite clear and structured. But sometimes the structure of JSON files can become more and more complex when objects are nested within other objects. For those familiar with Python, you can see it as dictionaries within dictionaries. Depending on the size it can be quite difficult to work with, but with enough knowledge of the structure you should be able to quickly work with it.\n",
    "\n",
    "Let's have a look at an example."
   ]
  },
  {
   "cell_type": "code",
   "execution_count": null,
   "id": "1f06b831",
   "metadata": {},
   "outputs": [],
   "source": [
    "# Nested JSON example.\n",
    "import json\n",
    "\n",
    "nested_json = {\"species\": \"Tiger\",\n",
    "               \"binomial_name\": \"Panthera tigris\",\n",
    "               \"status\": \"Endangered\",\n",
    "               \"subspecies\": [{\"name\" : \"Amur tiger\",\n",
    "                               \"binomial_name\": \"Panthera tigris altaica\",\n",
    "                               \"status\": \"Endangered\"},\n",
    "                             {\"name\" : \"Bengal tiger\",\n",
    "                               \"binomial_name\": \"Panthera tigris tigris\",\n",
    "                               \"status\": \"Endangered\"},\n",
    "                             {\"name\" : \"South China tiger\",\n",
    "                               \"binomial_name\": \"Panthera tigris amoyensis\",\n",
    "                               \"status\": \"Critically Endangered\"},\n",
    "                             {\"name\" : \"Malayan tiger\",\n",
    "                               \"binomial_name\": \"Panthera tigris jacksoni\",\n",
    "                               \"status\": \"\"},\n",
    "                             {\"name\" : \"Indo-Chinese tiger\",\n",
    "                               \"binomial_name\": \"Panthera tigris corbetti\",\n",
    "                               \"status\": \"\"},\n",
    "                             {\"name\" : \"Sumatran tiger\",\n",
    "                               \"binomial_name\": \"Panthera tigris sumatrae\",\n",
    "                               \"status\": \"Critically endangered\"},\n",
    "                             {\"name\" : \"Bali tiger\",\n",
    "                               \"binomial_name\": \"Panthera tigris balica\",\n",
    "                               \"status\": \"Extinct\"},\n",
    "                             {\"name\" : \"Javan tiger\",\n",
    "                               \"binomial_name\": \"Panthera tigris sondaica\",\n",
    "                               \"status\": \"Extinct\"},\n",
    "                             {\"name\" : \"Caspian tiger\",\n",
    "                               \"binomial_name\": \"Panthera tigris virgata\",\n",
    "                               \"status\": \"Extinct\"}],\n",
    "               }\n",
    "\n",
    "print(json.dumps(nested_json, indent=4))"
   ]
  },
  {
   "cell_type": "markdown",
   "id": "804d6b0b",
   "metadata": {},
   "source": [
    "As you can see, the structure remains visible. The most important aspect to note is that nested JSON objects can have keys with the same as other levels within the entire JSON object. See below for an example illustrating keys with double names. "
   ]
  },
  {
   "cell_type": "code",
   "execution_count": null,
   "id": "de69f52e",
   "metadata": {},
   "outputs": [],
   "source": [
    "# EXAMPLE\n",
    "print(nested_json[\"binomial_name\"])\n",
    "print(nested_json['subspecies'][0][\"binomial_name\"])"
   ]
  },
  {
   "cell_type": "markdown",
   "id": "5a2a5c09",
   "metadata": {},
   "source": [
    "The example above illustrates that a nested JSON is too different from a simpler JSON. It only requires more attention to the structure, and more attention to the navigation within the JSON. Let's try it out. Below are some assignments. First we'll retrieve a nested JSON. Below you'll see a large nested JSON about Pikachu."
   ]
  },
  {
   "cell_type": "code",
   "execution_count": null,
   "id": "e5a1d03a",
   "metadata": {},
   "outputs": [],
   "source": [
    "import requests\n",
    "import pprint\n",
    "\n",
    "URL = \"https://pokeapi.co/api/v2/pokemon/pikachu\"\n",
    "nested_json = requests.get(URL).json()\n",
    "\n",
    "# Print the first entry in the JSON file.\n",
    "pprint.pprint(nested_json)"
   ]
  },
  {
   "cell_type": "markdown",
   "id": "5e4cfd4a",
   "metadata": {},
   "source": [
    "#### Assigment 17: Nested JSON files 1\n",
    "\n",
    "Create a pandas DataFrame with each move Pikachu can perform from the game/version_group gold-silver.\n",
    "\n",
    "Information that needs to be present in the DataFrame: 'name', 'level_learned_at', 'move_learn_method'."
   ]
  },
  {
   "cell_type": "code",
   "execution_count": null,
   "id": "5868a5bc",
   "metadata": {},
   "outputs": [],
   "source": [
    "### FILL IN\n",
    "\n",
    "moves_dict = {'name': [], 'level_learned_at': [], 'move_learn_method': []}\n",
    "\n",
    "for move in nested_json['moves']:\n",
    "    for version in move['version_group_details']:\n",
    "        if version['version_group']['name'] == 'gold-silver':\n",
    "            moves_dict['name'].append(move['move']['name'])\n",
    "            moves_dict['level_learned_at'].append(version['level_learned_at'])\n",
    "            moves_dict['move_learn_method'].append(version['move_learn_method']['name'])\n",
    "            \n",
    "df = pd.DataFrame.from_dict(moves_dict)\n",
    "display(df)"
   ]
  },
  {
   "cell_type": "markdown",
   "id": "f04bf43a",
   "metadata": {},
   "source": [
    "#### Assigment 18: Nested JSON files 2\n",
    "\n",
    "Create your own dictionary with each game/version-group as a key. As value, have a counter for the number of occurences for each game/version-group within the 'moves' section. Lastly, safe the dictionary as a JSON file."
   ]
  },
  {
   "cell_type": "code",
   "execution_count": null,
   "id": "a24972c9",
   "metadata": {},
   "outputs": [],
   "source": [
    "### FILL IN\n",
    "\n",
    "version_dict = {}\n",
    "\n",
    "for move in nested_json['moves']:\n",
    "    for version in move['version_group_details']:\n",
    "        version_name = version['version_group']['name']\n",
    "        if version_name not in version_dict:\n",
    "            version_dict[version_name] = 1\n",
    "        else:\n",
    "            version_dict[version_name] += 1\n",
    "        \n",
    "print(version_dict)\n",
    "\n",
    "# Use json.dump\n",
    "file_name = \"versions.json\"\n",
    "\n",
    "with open(file_name, \"w\") as file:\n",
    "    json.dump(version_dict, file, indent=4)"
   ]
  }
 ],
 "metadata": {
  "kernelspec": {
   "display_name": "Python 3",
   "language": "python",
   "name": "python3"
  },
  "language_info": {
   "codemirror_mode": {
    "name": "ipython",
    "version": 3
   },
   "file_extension": ".py",
   "mimetype": "text/x-python",
   "name": "python",
   "nbconvert_exporter": "python",
   "pygments_lexer": "ipython3",
   "version": "3.10.7 (tags/v3.10.7:6cc6b13, Sep  5 2022, 14:08:36) [MSC v.1933 64 bit (AMD64)]"
  },
  "vscode": {
   "interpreter": {
    "hash": "369f2c481f4da34e4445cda3fffd2e751bd1c4d706f27375911949ba6bb62e1c"
   }
  }
 },
 "nbformat": 4,
 "nbformat_minor": 5
}
