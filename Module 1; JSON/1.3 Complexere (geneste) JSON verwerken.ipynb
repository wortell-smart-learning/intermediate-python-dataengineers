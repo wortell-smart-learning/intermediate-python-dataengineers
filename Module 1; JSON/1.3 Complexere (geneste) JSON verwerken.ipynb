{
 "cells": [
  {
   "cell_type": "markdown",
   "id": "ac5d4670",
   "metadata": {},
   "source": [
    "## Section 5: Nested JSON files\n",
    "\n",
    "Up until now the JSON files were quite clear and structured. But sometimes the structure of JSON files can become more and more complex when objects are nested within other objects. For those familiar with Python, you can see it as dictionaries within dictionaries. Depending on the size it can be quite difficult to work with, but with enough knowledge of the structure you should be able to quickly work with it.\n",
    "\n",
    "Let's have a look at an example."
   ]
  },
  {
   "cell_type": "code",
   "execution_count": null,
   "id": "1f06b831",
   "metadata": {},
   "outputs": [],
   "source": [
    "# Nested JSON example.\n",
    "import json\n",
    "\n",
    "nested_json = {\"species\": \"Tiger\",\n",
    "               \"binomial_name\": \"Panthera tigris\",\n",
    "               \"status\": \"Endangered\",\n",
    "               \"subspecies\": [{\"name\" : \"Amur tiger\",\n",
    "                               \"binomial_name\": \"Panthera tigris altaica\",\n",
    "                               \"status\": \"Endangered\"},\n",
    "                             {\"name\" : \"Bengal tiger\",\n",
    "                               \"binomial_name\": \"Panthera tigris tigris\",\n",
    "                               \"status\": \"Endangered\"},\n",
    "                             {\"name\" : \"South China tiger\",\n",
    "                               \"binomial_name\": \"Panthera tigris amoyensis\",\n",
    "                               \"status\": \"Critically Endangered\"},\n",
    "                             {\"name\" : \"Malayan tiger\",\n",
    "                               \"binomial_name\": \"Panthera tigris jacksoni\",\n",
    "                               \"status\": \"\"},\n",
    "                             {\"name\" : \"Indo-Chinese tiger\",\n",
    "                               \"binomial_name\": \"Panthera tigris corbetti\",\n",
    "                               \"status\": \"\"},\n",
    "                             {\"name\" : \"Sumatran tiger\",\n",
    "                               \"binomial_name\": \"Panthera tigris sumatrae\",\n",
    "                               \"status\": \"Critically endangered\"},\n",
    "                             {\"name\" : \"Bali tiger\",\n",
    "                               \"binomial_name\": \"Panthera tigris balica\",\n",
    "                               \"status\": \"Extinct\"},\n",
    "                             {\"name\" : \"Javan tiger\",\n",
    "                               \"binomial_name\": \"Panthera tigris sondaica\",\n",
    "                               \"status\": \"Extinct\"},\n",
    "                             {\"name\" : \"Caspian tiger\",\n",
    "                               \"binomial_name\": \"Panthera tigris virgata\",\n",
    "                               \"status\": \"Extinct\"}],\n",
    "               }\n",
    "\n",
    "print(json.dumps(nested_json, indent=4))"
   ]
  },
  {
   "cell_type": "markdown",
   "id": "804d6b0b",
   "metadata": {},
   "source": [
    "As you can see, the structure remains visible. The most important aspect to note is that nested JSON objects can have keys with the same as other levels within the entire JSON object. See below for an example illustrating keys with double names. "
   ]
  },
  {
   "cell_type": "code",
   "execution_count": null,
   "id": "de69f52e",
   "metadata": {},
   "outputs": [],
   "source": [
    "# EXAMPLE\n",
    "print(nested_json[\"binomial_name\"])\n",
    "print(nested_json['subspecies'][0][\"binomial_name\"])"
   ]
  },
  {
   "cell_type": "markdown",
   "id": "5a2a5c09",
   "metadata": {},
   "source": [
    "The example above illustrates that a nested JSON is too different from a simpler JSON. It only requires more attention to the structure, and more attention to the navigation within the JSON. Let's try it out. Below are some assignments. First we'll retrieve a nested JSON. Below you'll see a large nested JSON about Pikachu."
   ]
  },
  {
   "cell_type": "code",
   "execution_count": null,
   "id": "e5a1d03a",
   "metadata": {},
   "outputs": [],
   "source": [
    "import requests\n",
    "import pprint\n",
    "\n",
    "URL = \"https://pokeapi.co/api/v2/pokemon/pikachu\"\n",
    "nested_json = requests.get(URL).json()\n",
    "\n",
    "# Print the first entry in the JSON file.\n",
    "pprint.pprint(nested_json)"
   ]
  },
  {
   "cell_type": "markdown",
   "id": "5e4cfd4a",
   "metadata": {},
   "source": [
    "#### Assigment 17: Nested JSON files 1\n",
    "\n",
    "Create a pandas DataFrame with each move Pikachu can perform from the game/version_group gold-silver.\n",
    "\n",
    "Information that needs to be present in the DataFrame: 'name', 'level_learned_at', 'move_learn_method'."
   ]
  },
  {
   "cell_type": "code",
   "execution_count": null,
   "id": "5868a5bc",
   "metadata": {},
   "outputs": [],
   "source": [
    "### FILL IN"
   ]
  },
  {
   "cell_type": "markdown",
   "id": "f04bf43a",
   "metadata": {},
   "source": [
    "#### Assigment 18: Nested JSON files 2\n",
    "\n",
    "Create your own dictionary with each game/version-group as a key. As value, have a counter for the number of occurences for each game/version-group within the 'moves' section. Lastly, safe the dictionary as a JSON file."
   ]
  },
  {
   "cell_type": "code",
   "execution_count": null,
   "id": "a24972c9",
   "metadata": {},
   "outputs": [],
   "source": [
    "### FILL IN"
   ]
  }
 ],
 "metadata": {
  "kernelspec": {
   "display_name": "Python 3 (ipykernel)",
   "language": "python",
   "name": "python3"
  },
  "language_info": {
   "codemirror_mode": {
    "name": "ipython",
    "version": 3
   },
   "file_extension": ".py",
   "mimetype": "text/x-python",
   "name": "python",
   "nbconvert_exporter": "python",
   "pygments_lexer": "ipython3",
   "version": "3.9.4"
  }
 },
 "nbformat": 4,
 "nbformat_minor": 5
}
