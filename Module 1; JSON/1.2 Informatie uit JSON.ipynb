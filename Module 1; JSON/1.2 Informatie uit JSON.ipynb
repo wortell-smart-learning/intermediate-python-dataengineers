{
 "cells": [
  {
   "cell_type": "markdown",
   "id": "572bad7b",
   "metadata": {},
   "source": [
    "## Section 3: Navigating a JSON file structure"
   ]
  },
  {
   "cell_type": "markdown",
   "id": "6183a8d9",
   "metadata": {},
   "source": [
    "We had a touch of the json library. We had our first of taste of saving a json file and loading a json file.\n",
    "Let's move on to the most important part of JSON files. Navigating them.\n",
    "\n",
    "The json library can convert a JSON file to a Python dictionary, and that's how can navigate it. This means that you can index JSON files by their keys.\n",
    "\n",
    "Let's have a look at an example. "
   ]
  },
  {
   "cell_type": "code",
   "execution_count": null,
   "id": "00c912cf",
   "metadata": {},
   "outputs": [],
   "source": [
    "### You can retrieve any key of a dictionary by indexing it on the dictionary.\n",
    "json_structure_example = {\"name\": \"Roger Federer\",\n",
    "                          \"age\": 40,\n",
    "                          \"occupation\": \"Professional tennis player\"}\n",
    "\n",
    "print(json_structure_example[\"name\"])"
   ]
  },
  {
   "cell_type": "code",
   "execution_count": null,
   "id": "377777d6",
   "metadata": {},
   "outputs": [],
   "source": [
    "for key in json_structure_example:\n",
    "    print(key)\n",
    "    print(json_structure_example[key])"
   ]
  },
  {
   "cell_type": "markdown",
   "id": "92bb0858",
   "metadata": {},
   "source": [
    "This is how you can access information in JSON files. Now it's your turn to try it. Let's use the example about Jon Snow."
   ]
  },
  {
   "cell_type": "code",
   "execution_count": null,
   "id": "0d020c42",
   "metadata": {},
   "outputs": [],
   "source": [
    "import requests\n",
    "import pprint\n",
    "\n",
    "URL = \"https://anapioficeandfire.com/api/characters/583\"\n",
    "jon_snow_json = requests.get(URL).json()\n",
    "\n",
    "pprint.pprint(jon_snow_json)"
   ]
  },
  {
   "cell_type": "markdown",
   "id": "72c5bd30",
   "metadata": {},
   "source": [
    "In the following assignments you will try and navigate the JSON file."
   ]
  },
  {
   "cell_type": "markdown",
   "id": "0cca7fd5",
   "metadata": {},
   "source": [
    "#### Assignment 7: Navigating a JSON file structure 1\n",
    "\n",
    "From the 'jon_snow_json', print all keys.\n",
    "Use a for loop."
   ]
  },
  {
   "cell_type": "code",
   "execution_count": null,
   "id": "c9b38592",
   "metadata": {},
   "outputs": [],
   "source": [
    "### FILL IN"
   ]
  },
  {
   "cell_type": "markdown",
   "id": "cec60045",
   "metadata": {},
   "source": [
    "#### Assignment 7: Navigating a JSON file structure 2\n",
    "\n",
    "From the 'jon_snow_json', print all keys that have empty values.\n",
    "Use a for loop."
   ]
  },
  {
   "cell_type": "code",
   "execution_count": null,
   "id": "87962252",
   "metadata": {},
   "outputs": [],
   "source": [
    "### FILL IN"
   ]
  },
  {
   "cell_type": "markdown",
   "id": "f9f6239c",
   "metadata": {},
   "source": [
    "#### Assignment 8: Navigating a JSON file structure 3\n",
    "\n",
    "From the 'jon_snow_json', print every value that is part of a list.\n",
    "Use a for loop."
   ]
  },
  {
   "cell_type": "code",
   "execution_count": null,
   "id": "08808866",
   "metadata": {},
   "outputs": [],
   "source": [
    "### FILL IN"
   ]
  },
  {
   "cell_type": "markdown",
   "id": "f595f238",
   "metadata": {},
   "source": [
    "JSON files can also be manipulated. You can add or adjust information according to your views. In the following assignments we will have a small taste of that."
   ]
  },
  {
   "cell_type": "markdown",
   "id": "7f2cfaec",
   "metadata": {},
   "source": [
    "#### Assignment 9: Navigating a JSON file structure 4\n",
    "\n",
    "In the loaded json, add the following values for the following keys.\n",
    "'mother': 'Lyanna Stark'\n",
    "'father': 'Rhaeger Targaryen'"
   ]
  },
  {
   "cell_type": "code",
   "execution_count": null,
   "id": "62b47fdd",
   "metadata": {},
   "outputs": [],
   "source": [
    "### FILL IN"
   ]
  },
  {
   "cell_type": "markdown",
   "id": "1a661ea7",
   "metadata": {},
   "source": [
    "#### Assignment 10: Navigating a JSON file structure 5\n",
    "\n",
    "In the loaded json, add the following values to the 'tvSeries' key; 'Season 7' and 'Season 8'."
   ]
  },
  {
   "cell_type": "code",
   "execution_count": null,
   "id": "76eab77e",
   "metadata": {},
   "outputs": [],
   "source": [
    "### FILL IN"
   ]
  },
  {
   "cell_type": "markdown",
   "id": "d7b98577",
   "metadata": {},
   "source": [
    "Great job! Keep it going! :)"
   ]
  },
  {
   "cell_type": "markdown",
   "id": "a4d592bf",
   "metadata": {},
   "source": [
    "## Section 4: JSON to information"
   ]
  },
  {
   "cell_type": "markdown",
   "id": "a56e21bb",
   "metadata": {},
   "source": [
    "Manipulating a json file through a dictionary is quite straightforward. But the complexity changes with larger json files and dictionaries. The most important skill to develop is retrieving and storing information from JSON files / dictionaries. \n",
    "\n",
    "JSON files are readable by computers and by humans. But sometimes you'll want to convert a JSON file to another structure, such as lists or pandas DataFrames. In this section we'll have a look at extracting information from JSON files.\n",
    "\n",
    "First we'll download a larger JSON file. And then you'll get to work on some larger assignments."
   ]
  },
  {
   "cell_type": "code",
   "execution_count": null,
   "id": "b5e3bda4",
   "metadata": {},
   "outputs": [],
   "source": [
    "import requests\n",
    "import pprint\n",
    "\n",
    "URL = \"https://anapioficeandfire.com/api/houses\"\n",
    "larger_json_file_1 = requests.get(URL, params={\"region\": \"The North\", \"page\": 5}).json()\n",
    "\n",
    "# Print the first entry in the JSON file.\n",
    "pprint.pprint(larger_json_file_1)"
   ]
  },
  {
   "cell_type": "markdown",
   "id": "c7d5b462",
   "metadata": {},
   "source": [
    "We retrieved another JSON file. As you can see, this is a larger file. This file contains information on some houses present in the world of Game of Thrones. There are 10 entries in total."
   ]
  },
  {
   "cell_type": "markdown",
   "id": "3560cb46",
   "metadata": {},
   "source": [
    "#### Assignment 11: JSON to information 1\n",
    "\n",
    "Retrieve all values for the following keys; 'name', 'region', 'coatOfArms', 'words', and put them in separate lists. \n",
    "Use a for loop to fill the lists."
   ]
  },
  {
   "cell_type": "code",
   "execution_count": null,
   "id": "15aa2c03",
   "metadata": {},
   "outputs": [],
   "source": [
    "### FILL IN"
   ]
  },
  {
   "cell_type": "markdown",
   "id": "dbeaf819",
   "metadata": {},
   "source": [
    "#### Assigment 12: JSON to information 2\n",
    "\n",
    "Create a pandas dataframe with information for each house from the JSON file. The following pieces of information should be present in the columns: 'name', 'region', 'coatOfArms', 'words', 'seats', 'titles', 'currentLord'.\n",
    "Use a for loop to fill the pandas dataframe."
   ]
  },
  {
   "cell_type": "code",
   "execution_count": null,
   "id": "377a91aa",
   "metadata": {},
   "outputs": [],
   "source": [
    "### FILL IN"
   ]
  },
  {
   "cell_type": "markdown",
   "id": "0ed8bfd8",
   "metadata": {},
   "source": [
    "Now let's retrieve another JSON file. It's important to work with a few different files with a bit of variation. This will help you understand the structure of JSON files even better."
   ]
  },
  {
   "cell_type": "code",
   "execution_count": null,
   "id": "f089c61f",
   "metadata": {},
   "outputs": [],
   "source": [
    "import requests\n",
    "import pprint\n",
    "\n",
    "URL = \"https://hp-api.onrender.com/api/characters\"\n",
    "potter_json = requests.get(URL).json()\n",
    "\n",
    "# Print the first entry in the JSON file.\n",
    "pprint.pprint(potter_json)"
   ]
  },
  {
   "cell_type": "markdown",
   "id": "bbfdf9e3",
   "metadata": {},
   "source": [
    "We just retrieved an even larger JSON file on Harry Potter characters. Now it's your turn to retrieve information from this JSON file and convert it to a pandas DataFrame."
   ]
  },
  {
   "cell_type": "markdown",
   "id": "eaed6cdb",
   "metadata": {},
   "source": [
    "#### Assigment 13: JSON to information 3\n",
    "\n",
    "Fill lists with information on each character from the JSON file. The following pieces of information should be present in the separate lists: 'name', 'actor', 'dateOfBirth', 'gender', 'eyeColour'.\n",
    "Use a for loop to fill the lists."
   ]
  },
  {
   "cell_type": "code",
   "execution_count": null,
   "id": "43fd1b63",
   "metadata": {},
   "outputs": [],
   "source": [
    "### FILL IN"
   ]
  },
  {
   "cell_type": "markdown",
   "id": "94895d3e",
   "metadata": {},
   "source": [
    "#### Assigment 14: JSON to information 4\n",
    "\n",
    "Create a pandas dataframe with the information for characters from the JSON file, but only for characters that are wizards. Use the 'wizard' key in order to determine whether a character is a wizard.\n",
    "\n",
    "The following pieces of information should be present in the columns: 'name', 'house', 'wand', 'patronus'.\n",
    "Use a for loop to fill the pandas dataframe."
   ]
  },
  {
   "cell_type": "code",
   "execution_count": null,
   "id": "fa8e395f",
   "metadata": {},
   "outputs": [],
   "source": [
    "### FILL IN"
   ]
  },
  {
   "cell_type": "markdown",
   "id": "00068501",
   "metadata": {},
   "source": [
    "#### Assigment 15: JSON to information 5\n",
    "\n",
    "Create a pandas dataframe with information on the characters and their wands in the JSON file, but only for characters that have wands. Have a closer look at the 'wand' key.\n",
    "\n",
    "The following pieces of information should be present in the columns: 'name', 'core', 'length', 'wood'.\n",
    "Use a for loop to fill the pandas dataframe."
   ]
  },
  {
   "cell_type": "code",
   "execution_count": null,
   "id": "a4cc33fe",
   "metadata": {},
   "outputs": [],
   "source": [
    "### FILL IN."
   ]
  },
  {
   "cell_type": "markdown",
   "id": "a41c7915",
   "metadata": {},
   "source": [
    "#### Assigment 16: JSON to information 6\n",
    "\n",
    "This is smaller, easier assignment. Use the powerfull pandas library in order to read the Potter dictionary, and convert it at once to a pandas DataFrame.\n",
    "Use the pandas.from_dict (https://pandas.pydata.org/docs/reference/api/pandas.DataFrame.from_dict.html) method."
   ]
  },
  {
   "cell_type": "code",
   "execution_count": null,
   "id": "9a613cca",
   "metadata": {},
   "outputs": [],
   "source": [
    "### FILL IN"
   ]
  }
 ],
 "metadata": {
  "kernelspec": {
   "display_name": "Python 3 (ipykernel)",
   "language": "python",
   "name": "python3"
  },
  "language_info": {
   "codemirror_mode": {
    "name": "ipython",
    "version": 3
   },
   "file_extension": ".py",
   "mimetype": "text/x-python",
   "name": "python",
   "nbconvert_exporter": "python",
   "pygments_lexer": "ipython3",
   "version": "3.9.4"
  }
 },
 "nbformat": 4,
 "nbformat_minor": 5
}
