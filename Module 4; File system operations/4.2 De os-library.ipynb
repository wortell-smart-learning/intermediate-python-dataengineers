{
 "cells": [
  {
   "cell_type": "markdown",
   "id": "277ecd22",
   "metadata": {},
   "source": [
    "## Section 2: os\n",
    "\n",
    "In this section we are going to use the hierarchical structure of the file system. To do so, we need the built-in [`os`](https://docs.python.org/3/library/os.html) library. This library offers functionality for listing files, removing and creating files and folders, navigating folders, and much more.\n",
    "\n"
   ]
  },
  {
   "cell_type": "markdown",
   "id": "39a2df24",
   "metadata": {},
   "source": [
    "##### Exercise 1\n",
    "\n",
    "In the last section we've pulled some data from an API and saved it to the disk. Of course, we want to get closer to a nice structural way of saving our data, and not just dump everything in one file. Lets delete this file for now. To do so we need the `remove` function from the [`os`](https://docs.python.org/3/library/os.html) library. Find out how to use this function, and delete the file we've created before within this notebook:"
   ]
  },
  {
   "cell_type": "code",
   "execution_count": null,
   "id": "5eda2747",
   "metadata": {},
   "outputs": [],
   "source": [
    "## Your code here:"
   ]
  },
  {
   "cell_type": "markdown",
   "id": "3f666eeb",
   "metadata": {},
   "source": [
    "#### Exercise 2\n",
    "\n",
    "Let's say we want to save each type of cocktail (sour, fizz, punch and flip) to their own seperate folder. Think about how you would do that manually first, and then take a look at the approach we will take:\n",
    "\n",
    "- Step 1: Pull apart the Cocktail data into the 4 categories\n",
    "- Step 2: Create the 4 folders (think about doing this dynamically, all the information we need is in the JSON. Look up how to create folders in the python docs)\n",
    "- Step 3: Save the correct data to a new file in the correct folder\n",
    "\n",
    "Try not to hardcode any names for files and folders, but use the values in the cocktail data to name the files and folders.\n",
    "\n",
    "The resulting file hierarchy will need to look something like this:\n",
    "\n",
    "```\n",
    "- sour\n",
    "    - sour_cocktails.json\n",
    "- fizz\n",
    "    - fizz_cocktails.json\n",
    "- punch\n",
    "    - punch_cocktails.json\n",
    "- flip\n",
    "    - flip_cocktails.json\n",
    "```\n"
   ]
  },
  {
   "cell_type": "code",
   "execution_count": null,
   "id": "aae31e0e",
   "metadata": {},
   "outputs": [],
   "source": [
    "## Your code here:"
   ]
  },
  {
   "cell_type": "markdown",
   "id": "ddd5733b",
   "metadata": {},
   "source": [
    "#### Exercise 3\n",
    "\n",
    "In the previous exercise, you might have run into something unexpected: if you simply put the name of the output file as an argument in the open function, the file will not end up in the correct folder. After all, the program has no way to determine in which folder you want to save the file. By default, the `open` function will alway look at files in the current working directory. When we saved the JSON file, we saved it in the working directory, and when we read from the file, we opened it from the current working directory.\n",
    "\n",
    "You can check what directory that is with the following code:"
   ]
  },
  {
   "cell_type": "code",
   "execution_count": null,
   "id": "36acabad",
   "metadata": {},
   "outputs": [],
   "source": [
    "os.getcwd()"
   ]
  },
  {
   "cell_type": "markdown",
   "id": "b93399ea",
   "metadata": {},
   "source": [
    "The way we read or write to a file that's not in the current working directory is by simply giving the whole path as an argument instead of simply the filename. In our case this would look like:\n",
    "\n",
    "```python\n",
    "open('cocktail_data/fizz/fizz_cocktails.json', 'w')\n",
    "```\n",
    "\n",
    "Of course, you would want to implement this path dynamically. We could use simple string formatting using [f-strings](https://peps.python.org/pep-0498/) for that:\n",
    "\n",
    "```python\n",
    "open(f'cocktail_data/{cocktail_type}/{cocktail_type}_cocktails.json', 'w')\n",
    "```\n",
    "\n",
    "In case your code from the previous exercise does not put the files in the correct place, go back and fix it.\n",
    "\n",
    "You can use the following code to check if all the files are there:"
   ]
  },
  {
   "cell_type": "code",
   "execution_count": null,
   "id": "24928487",
   "metadata": {},
   "outputs": [],
   "source": [
    "for cocktail_type in cocktail_data:\n",
    "    print(cocktail_type, os.listdir(cocktail_type))"
   ]
  },
  {
   "cell_type": "markdown",
   "id": "218299e2",
   "metadata": {},
   "source": [
    "The `open` function accepts _absolute_ as well as _relative_ paths.\n",
    "\n",
    "Relative paths is what we have worked with untill now. They define the locations of files and folders _relative_ to the current working directory, denoted by `./`.\n",
    "\n",
    "An example (in our case) of a relative path would be: `./sour/sour_cocktails.json` (same as `sour/sour_cocktails.json`)\n",
    "\n",
    "Absolute paths are always defined starting from the _root_ of your filesystem, denoted by `/` on UNIX machines, and (usually) `C:\\` on windows machines. It is quite common for machines to have multiple storage drives. On Windows machines, this is denoted by the letter at the start of absolute paths, where the `C` drive is by default the main install drive of the OS. Windows can therefore have multiple _roots_, one per drive. On UNIX machines, all locations on any drive are all accesible from the same root `/`, which exists on your main install drive. Usually, secondary drives can be found in `/media`.\n",
    "\n",
    "To make sure you understand the difference between relative and absolute paths, play around with the [`os.listdir`](https://docs.python.org/3/library/os.html#os.listdir) function in the cell below and explore your own filesystem."
   ]
  },
  {
   "cell_type": "code",
   "execution_count": null,
   "id": "b3500620",
   "metadata": {},
   "outputs": [],
   "source": [
    "## Relative\n",
    "print(os.listdir(), '\\n')\n",
    "\n",
    "print(os.listdir('./'), '\\n')\n",
    "\n",
    "print(os.listdir('../'), '\\n')\n",
    "\n",
    "print(os.listdir('./sour/'), '\\n')\n",
    "\n",
    "## Absolute\n",
    "\n",
    "print(os.listdir('/'), '\\n')\n",
    "\n",
    "print(os.listdir(os.getcwd()), '\\n')"
   ]
  },
  {
   "cell_type": "markdown",
   "id": "0b6143c5",
   "metadata": {},
   "source": [
    "#### Exercise 4\n",
    "\n",
    "In theory, it's always good practice to use absolute paths when reading or writing files, since this way you can use your code from anywhere. Say you are developing a module that does some file I/O with config files. This module could be called from anywhere meaning the current working directory could be anywhere, but the location of the config files should be a fixed location. That's why you would use absolute paths.\n",
    "\n",
    "A relatively easy way to make sure your paths are always relative, is by either defining a fixed directory, or by dynamically contructing the absolute path.\n",
    "\n",
    "Say we want the exact same functionality as before, saving 4 JSON's in 4 different folders, but this time we would use only absolute paths. We can achieve this by concatenating the output of `os.getcwd()` with the relative path:\n",
    "\n",
    "```python\n",
    "open(f'{os.getcwd()}/{cocktail_type}/{cocktail_type}_cocktails.json', 'w')\n",
    "```\n",
    "\n",
    "This is beginning to look a bit messy, and it's also not universal. For example on Windows, the path seperators are `\\`, not `/`. The `os` library has functionality to contruct these paths dynamically, namely the [`os.path`](https://docs.python.org/3/library/os.path.html#module-os.path) module.\n",
    "\n",
    "For example, we can build the path of one of our files with `os.path.join('sour', 'sour_cocktails.json')`. This function will always build the correct path, independant of operating system.\n",
    "\n",
    "In the next step, we again want to delete all files and folder we've created so we can enter the next stage. To do so, we can use the [`shutil.rmtree`](https://docs.python.org/3/library/shutil.html#shutil.rmtree) functionality, which removes a folder and all it's contents. However, this function needs an absolute path.\n",
    "\n",
    "In the cell below, find a way to get the abolute paths of the folders we've created using `os.path.join` (remember that `os.getcwd()` returns an absolute path)."
   ]
  },
  {
   "cell_type": "code",
   "execution_count": null,
   "id": "510ec05e",
   "metadata": {},
   "outputs": [],
   "source": [
    "## Fill in here\n",
    "for cocktail_type in cocktail_data:\n",
    "    shutil.rmtree(___)"
   ]
  }
 ],
 "metadata": {
  "kernelspec": {
   "display_name": "Python 3 (ipykernel)",
   "language": "python",
   "name": "python3"
  },
  "language_info": {
   "codemirror_mode": {
    "name": "ipython",
    "version": 3
   },
   "file_extension": ".py",
   "mimetype": "text/x-python",
   "name": "python",
   "nbconvert_exporter": "python",
   "pygments_lexer": "ipython3",
   "version": "3.9.4"
  }
 },
 "nbformat": 4,
 "nbformat_minor": 5
}
