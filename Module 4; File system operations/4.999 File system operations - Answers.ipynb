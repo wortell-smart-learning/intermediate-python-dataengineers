{
 "cells": [
  {
   "cell_type": "markdown",
   "id": "5667efa8",
   "metadata": {},
   "source": [
    "# Module 4: File system operations\n",
    "\n",
    "In this module we will explore the interactions between your code and the file system you're working with. We will learn to execute all operations on files you would normally do by hand, such as copying, moving, renaming, creating and deleting files or folders. This will be done in a programmatic way, making sure the implementation is generic and not os-dependant.\n",
    "\n",
    "For most of the excercises a lot of code is already written. This purely serves as a guideline, feel free to remove the code and implement your own solutions."
   ]
  },
  {
   "cell_type": "markdown",
   "id": "5b169e9f",
   "metadata": {},
   "source": [
    "### Introduction\n",
    "\n",
    "Good file system operations are key to succesfully working with, storing, and moving files on a system. Using the different libraries available in Python, we can do this in a programmatic way. And what's even better, we can make sure that the implementation is not os-dependant. \n",
    "\n",
    "There are several common operating systems (OS) available, such as Windows, MacOS and Linux. Every OS has its own way of file pathing and structuring directories. For example, Windows uses drives and (double) backslashes: \"C:\\Users\\Bas\" or \"C:]]Users\\\\Bas\". Linux doesn't use drives, and uses forward slashes: \"/home/Bas\". And MacOS is similar to Linux, using forward slashes: \"Users/Bas\".\n",
    "\n",
    "The libraries that we'll be discussing today are able to work with each OS, and thus make your code OS independent. Which is very useful!"
   ]
  },
  {
   "cell_type": "code",
   "execution_count": null,
   "id": "b823e39d",
   "metadata": {},
   "outputs": [],
   "source": [
    "Run the following cell to import all necessary libraries."
   ]
  },
  {
   "cell_type": "code",
   "execution_count": null,
   "id": "3ff3d63a",
   "metadata": {},
   "outputs": [],
   "source": [
    "import requests\n",
    "import json\n",
    "import os\n",
    "import sys\n",
    "import pathlib\n",
    "import shutil"
   ]
  },
  {
   "cell_type": "markdown",
   "id": "a3038168",
   "metadata": {},
   "source": [
    "### Section 1: open\n",
    "\n",
    "The built-in [```open```](https://docs.python.org/3/library/functions.html#open) function is used to interact with the content of a file. This could be any file, from human readable JSON data to compiled executables. In most cases, we are dealing with non-compiled data in some text format, containing data or configuration for the program.\n",
    "\n",
    "In this section we will discover how we use the ```open``` function. [Here](https://docs.python.org/3/tutorial/inputoutput.html#reading-and-writing-files) is more reference if needed."
   ]
  },
  {
   "cell_type": "markdown",
   "id": "26c5fc2a",
   "metadata": {},
   "source": [
    "##### Exercise 1\n",
    "We want to have some files in our system to interact with. Of course this file needs some contents, so we're going to use an API to load some JSON data, and save this to the disk.\n",
    "\n",
    "The data we are working with comes from a simple cocktail recipe website, which allows you to get a recipe for a cocktail based on a search term. This will return a list of recipes for all cocktails that match this search term. In this example, we will collect all cocktails that are either a fizz, a sour, or punch.\n",
    "\n",
    "Run the next cell and check out the contents of `cocktail_data` to get an idea of what the data looks like"
   ]
  },
  {
   "cell_type": "code",
   "execution_count": null,
   "id": "5997dfb6",
   "metadata": {},
   "outputs": [],
   "source": [
    "url = \"https://www.thecocktaildb.com/api/json/v1/1/search.php\"\n",
    "\n",
    "cocktails = [\"sour\", \"fizz\", \"punch\"]\n",
    "\n",
    "cocktail_data = {}\n",
    "\n",
    "for cocktail in cocktails:\n",
    "\n",
    "    params = {\"s\": cocktail}\n",
    "\n",
    "    response = requests.get(url=url, params=params)\n",
    "    \n",
    "    cocktail_data[cocktail] = response.json()['drinks']\n",
    "\n",
    "cocktail_data"
   ]
  },
  {
   "cell_type": "markdown",
   "id": "ca1cf58e",
   "metadata": {},
   "source": [
    "As you can see this is a quite large amount of data to read through all at once. We are going to take steps to save this data to the drive in an organized structure.\n",
    "\n",
    "The first step is to simply save this whole response into a JSON file. To do so we can use the `open` function, which allows us to create and open a file.\n",
    "\n",
    "[Find the `open` functionality online](https://www.google.com/search?hl=en&q=python%20open) and fill in the arguments for the function. You can name the file whatever you want. Then, using the `write` method of the opened file object, write the raw json data to the file."
   ]
  },
  {
   "cell_type": "code",
   "execution_count": null,
   "id": "d945b2d7",
   "metadata": {},
   "outputs": [],
   "source": [
    "## Fill in ___\n",
    "\n",
    "with open(___) as cocktails_json_file:\n",
    "    raw_cocktail_data = json.dumps(cocktail_data)\n",
    "    \n",
    "    # write raw json data to file\n",
    "    ___\n",
    "    \n",
    "del cocktail_data"
   ]
  },
  {
   "cell_type": "code",
   "execution_count": null,
   "id": "a11e32e1",
   "metadata": {},
   "outputs": [],
   "source": [
    "# Answer\n",
    "with open('cocktails.json', 'w') as cocktails_json_file:\n",
    "    raw_cocktail_data = json.dumps(cocktail_data)\n",
    "    \n",
    "    cocktails_json_file.write(raw_cocktail_data)\n",
    "    \n",
    "del cocktail_data"
   ]
  },
  {
   "cell_type": "markdown",
   "id": "233a8fd8",
   "metadata": {},
   "source": [
    "You can see the use of the `with` keyword in this code cell. This keyword allows you to execute certain code within a context, in this case the opening of a file, without worrying about exceptions that might happen in your code. You can also do file I/O using the following structure:\n",
    "\n",
    "```python\n",
    "\n",
    "file = open('filename.txt', 'r')\n",
    "\n",
    "text = file.read()\n",
    "\n",
    "file.close()\n",
    "\n",
    "```\n",
    "\n",
    "If in this code, the `file.read()` line throws an exception, the `file.close()` part is never reached, so the file is not closed properly, which can result in corrupting data. The `with` approach will always take care of this, no matter what happens in the block."
   ]
  },
  {
   "cell_type": "markdown",
   "id": "f9b0eee9",
   "metadata": {},
   "source": [
    "##### Exercise 2\n",
    "\n",
    "Now we've succesfully saved some JSON data to the disk. But lets say we made a mistake in what data we actually want. We also want to include 'flip' cocktails in the data. \n",
    "\n",
    "Run the next cell to get this new cocktail data into `new_cocktail_data`"
   ]
  },
  {
   "cell_type": "code",
   "execution_count": null,
   "id": "3feda115",
   "metadata": {},
   "outputs": [],
   "source": [
    "params = {\"s\": \"flip\"}\n",
    "\n",
    "response = requests.get(url=url, params=params)\n",
    "\n",
    "new_cocktail_data = {'flip': response.json()['drinks']}"
   ]
  },
  {
   "cell_type": "markdown",
   "id": "f8ed823b",
   "metadata": {},
   "source": [
    "We want to add this data to the already existing file. To do so, we need to _change_ the contents of the file. To do so, we need to first _read_ the current contents of the file, then _merge_ the current content with the new content, and then _write_ the result back to that file.\n",
    "\n",
    "This means we have to do two seperate file operations. Fill in the missing parts in the code block below to implement these steps."
   ]
  },
  {
   "cell_type": "code",
   "execution_count": null,
   "id": "e2cec509",
   "metadata": {},
   "outputs": [],
   "source": [
    "## Fill in ___\n",
    "\n",
    "# Open the file in read mode:\n",
    "with open(___) as cocktails_json_file:\n",
    "    # read raw json data:\n",
    "    raw_cocktail_data = ___\n",
    "    \n",
    "    cocktail_data = json.loads(raw_cocktail_data)\n",
    "\n",
    "# update the dictionary with the new data\n",
    "cocktail_data.update(new_cocktail_data)\n",
    "\n",
    "# Open the file in write mode:\n",
    "with open('cocktails.json', 'w') as cocktails_json_file:\n",
    "    raw_cocktail_data = json.dumps(cocktail_data)\n",
    "\n",
    "    # write update json to file\n",
    "    ___\n"
   ]
  },
  {
   "cell_type": "code",
   "execution_count": null,
   "id": "d12bd538",
   "metadata": {},
   "outputs": [],
   "source": [
    "## Answer\n",
    "\n",
    "# Open the file in read mode:\n",
    "with open('cocktails.json', 'r') as cocktails_json_file:\n",
    "    raw_cocktail_data = cocktails_json_file.read()\n",
    "    \n",
    "    cocktail_data = json.loads(raw_cocktail_data)\n",
    "\n",
    "# update the dictionary with the new data\n",
    "cocktail_data.update(new_cocktail_data)\n",
    "\n",
    "# Open the file in write mode:\n",
    "with open('cocktails.json', 'w') as cocktails_json_file:\n",
    "    raw_cocktail_data = json.dumps(cocktail_data)\n",
    "    \n",
    "    cocktails_json_file.write(raw_cocktail_data)"
   ]
  },
  {
   "cell_type": "markdown",
   "id": "277ecd22",
   "metadata": {},
   "source": [
    "### Section 2: os\n",
    "\n",
    "In this section we are going to use the hierarchical structure of the file system. To do so, we need the built-in [`os`](https://docs.python.org/3/library/os.html) library. This library offers functionality for listing files, removing and creating files and folders, navigating folders, and much more.\n",
    "\n"
   ]
  },
  {
   "cell_type": "markdown",
   "id": "39a2df24",
   "metadata": {},
   "source": [
    "##### Exercise 1\n",
    "\n",
    "In the last section we've pulled some data from an API and saved it to the disk. Of course, we want to get closer to a nice structural way of saving our data, and not just dump everything in one file. Lets delete this file for now. To do so we need the `remove` function from the [`os`](https://docs.python.org/3/library/os.html) library. Find out how to use this function, and delete the file we've created before within this notebook:"
   ]
  },
  {
   "cell_type": "code",
   "execution_count": null,
   "id": "5eda2747",
   "metadata": {},
   "outputs": [],
   "source": [
    "## Your code here:\n"
   ]
  },
  {
   "cell_type": "code",
   "execution_count": null,
   "id": "418239e7",
   "metadata": {},
   "outputs": [],
   "source": [
    "## Answer\n",
    "os.remove('cocktails.json')"
   ]
  },
  {
   "cell_type": "markdown",
   "id": "3f666eeb",
   "metadata": {},
   "source": [
    "#### Exercise 2\n",
    "\n",
    "Let's say we want to save each type of cocktail (sour, fizz, punch and flip) to their own seperate folder. Think about how you would do that manually first, and then take a look at the approach we will take:\n",
    "\n",
    "- Step 1: Pull apart the Cocktail data into the 4 categories\n",
    "- Step 2: Create the 4 folders (think about doing this dynamically, all the information we need is in the JSON. Look up how to create folders in the python docs)\n",
    "- Step 3: Save the correct data to a new file in the correct folder\n",
    "\n",
    "Try not to hardcode any names for files and folders, but use the values in the cocktail data to name the files and folders.\n",
    "\n",
    "The resulting file hierarchy will need to look something like this:\n",
    "\n",
    "```\n",
    "- sour\n",
    "    - sour_cocktails.json\n",
    "- fizz\n",
    "    - fizz_cocktails.json\n",
    "- punch\n",
    "    - punch_cocktails.json\n",
    "- flip\n",
    "    - flip_cocktails.json\n",
    "```\n"
   ]
  },
  {
   "cell_type": "code",
   "execution_count": null,
   "id": "aae31e0e",
   "metadata": {},
   "outputs": [],
   "source": [
    "## Your code here:\n"
   ]
  },
  {
   "cell_type": "code",
   "execution_count": null,
   "id": "1e2a3d67",
   "metadata": {},
   "outputs": [],
   "source": [
    "## Answer\n",
    "\n",
    "for cocktail_type in cocktail_data:\n",
    "    # step 1: get correct part from json data\n",
    "    cocktail_type_data_raw = json.dumps(cocktail_data[cocktail_type])\n",
    "    \n",
    "    # step 2: create folder\n",
    "    os.mkdir(cocktail_type)\n",
    "    \n",
    "    # step 3: write data to file\n",
    "    with open(f'{cocktail_type}/{cocktail_type}_cocktails.json', 'w') as cocktail_file:\n",
    "        cocktail_file.write(cocktail_type_data_raw)"
   ]
  },
  {
   "cell_type": "markdown",
   "id": "ddd5733b",
   "metadata": {},
   "source": [
    "#### Exercise 3\n",
    "\n",
    "In the previous exercise, you might have run into something unexpected: if you simply put the name of the output file as an argument in the open function, the file will not end up in the correct folder. After all, the program has no way to determine in which folder you want to save the file. By default, the `open` function will alway look at files in the current working directory. When we saved the JSON file, we saved it in the working directory, and when we read from the file, we opened it from the current working directory.\n",
    "\n",
    "You can check what directory that is with the following code:"
   ]
  },
  {
   "cell_type": "code",
   "execution_count": null,
   "id": "36acabad",
   "metadata": {},
   "outputs": [],
   "source": [
    "os.getcwd()"
   ]
  },
  {
   "cell_type": "markdown",
   "id": "b93399ea",
   "metadata": {},
   "source": [
    "The way we read or write to a file that's not in the current working directory is by simply giving the whole path as an argument instead of simply the filename. In our case this would look like:\n",
    "\n",
    "```python\n",
    "open('cocktail_data/fizz/fizz_cocktails.json', 'w')\n",
    "```\n",
    "\n",
    "Of course, you would want to implement this path dynamically. We could use simple string formatting using [f-strings](https://peps.python.org/pep-0498/) for that:\n",
    "\n",
    "```python\n",
    "open(f'cocktail_data/{cocktail_type}/{cocktail_type}_cocktails.json', 'w')\n",
    "```\n",
    "\n",
    "In case your code from the previous exercise does not put the files in the correct place, go back and fix it.\n",
    "\n",
    "You can use the following code to check if all the files are there:"
   ]
  },
  {
   "cell_type": "code",
   "execution_count": null,
   "id": "24928487",
   "metadata": {},
   "outputs": [],
   "source": [
    "for cocktail_type in cocktail_data:\n",
    "    print(cocktail_type, os.listdir(cocktail_type))"
   ]
  },
  {
   "cell_type": "markdown",
   "id": "218299e2",
   "metadata": {},
   "source": [
    "The `open` function accepts _absolute_ as well as _relative_ paths.\n",
    "\n",
    "Relative paths is what we have worked with untill now. They define the locations of files and folders _relative_ to the current working directory, denoted by `./`.\n",
    "\n",
    "An example (in our case) of a relative path would be: `./sour/sour_cocktails.json` (same as `sour/sour_cocktails.json`)\n",
    "\n",
    "Absolute paths are always defined starting from the _root_ of your filesystem, denoted by `/` on UNIX machines, and (usually) `C:\\` on windows machines. It is quite common for machines to have multiple storage drives. On Windows machines, this is denoted by the letter at the start of absolute paths, where the `C` drive is by default the main install drive of the OS. Windows can therefore have multiple _roots_, one per drive. On UNIX machines, all locations on any drive are all accesible from the same root `/`, which exists on your main install drive. Usually, secondary drives can be found in `/media`.\n",
    "\n",
    "To make sure you understand the difference between relative and absolute paths, play around with the [`os.listdir`](https://docs.python.org/3/library/os.html#os.listdir) function in the cell below and explore your own filesystem."
   ]
  },
  {
   "cell_type": "code",
   "execution_count": null,
   "id": "b3500620",
   "metadata": {},
   "outputs": [],
   "source": [
    "## Relative\n",
    "print(os.listdir())\n",
    "\n",
    "print(os.listdir('./'))\n",
    "\n",
    "print(os.listdir('../'))\n",
    "\n",
    "print(os.listdir('./sour/'))\n",
    "\n",
    "## Absolute\n",
    "\n",
    "print(os.listdir('/'))\n",
    "\n",
    "print(os.listdir(os.getcwd()))"
   ]
  },
  {
   "cell_type": "markdown",
   "id": "0b6143c5",
   "metadata": {},
   "source": [
    "#### Exercise 4\n",
    "\n",
    "In theory, it's always good practice to use absolute paths when reading or writing files, since this way you can use your code from anywhere. Say you are developing a module that does some file I/O with config files. This module could be called from anywhere meaning the current working directory could be anywhere, but the location of the config files should be a fixed location. That's why you would use absolute paths.\n",
    "\n",
    "A relatively easy way to make sure your paths are always relative, is by either defining a fixed directory, or by dynamically contructing the absolute path.\n",
    "\n",
    "Say we want the exact same functionality as before, saving 4 JSON's in 4 different folders, but this time we would use only absolute paths. We can achieve this by concatenating the output of `os.getcwd()` with the relative path:\n",
    "\n",
    "```python\n",
    "open(f'{os.getcwd()}/{cocktail_type}/{cocktail_type}_cocktails.json', 'w')\n",
    "```\n",
    "\n",
    "This is beginning to look a bit messy, and it's also not universal. For example on Windows, the path seperators are `\\`, not `/`. The `os` library has functionality to contruct these paths dynamically, namely the [`os.path`](https://docs.python.org/3/library/os.path.html#module-os.path) module.\n",
    "\n",
    "For example, we can build the path of one of our files with `os.path.join('sour', 'sour_cocktails.json')`. This function will always build the correct path, independant of operating system.\n",
    "\n",
    "In the next step, we again want to delete all files and folder we've created so we can enter the next stage. To do so, we can use the [`shutil.rmtree`](https://docs.python.org/3/library/shutil.html#shutil.rmtree) functionality, which removes a folder and all it's contents. However, this function needs an absolute path.\n",
    "\n",
    "In the cell below, find a way to get the abolute paths of the folders we've created using `os.path.join` (remember that `os.getcwd()` returns an absolute path)."
   ]
  },
  {
   "cell_type": "code",
   "execution_count": null,
   "id": "510ec05e",
   "metadata": {},
   "outputs": [],
   "source": [
    "## Fill in here\n",
    "for cocktail_type in cocktail_data:\n",
    "    shutil.rmtree(___)\n"
   ]
  },
  {
   "cell_type": "code",
   "execution_count": null,
   "id": "8c947d50",
   "metadata": {},
   "outputs": [],
   "source": [
    "## Answer\n",
    "for cocktail_type in cocktail_data:\n",
    "    shutil.rmtree(os.path.join(os.getcwd(), cocktail_type))"
   ]
  },
  {
   "cell_type": "markdown",
   "id": "4dae1273",
   "metadata": {},
   "source": [
    "### Section 3: paths\n",
    "\n",
    "Now we want to make the final step in getting all of our data into a nice and clear format, where we want each cocktail to be in its own file. Furthermore, we want all of this data in a seperate folder called `cocktail_data`. Our goal is to achieve the following file structure:\n",
    "\n",
    "```\n",
    "- cocktail_data\n",
    "    - sour\n",
    "        - gin_sour.json\n",
    "        - rum_sour.json\n",
    "        - ...\n",
    "    - fizz\n",
    "        - gin_fizz.json\n",
    "        - royal_fizz.json\n",
    "        - ...\n",
    "    - punch\n",
    "        - wine_punch.json\n",
    "        - aztec_punch.json\n",
    "        - ...\n",
    "    - flip\n",
    "        - porto_flip.json\n",
    "        - brandy_flip.json\n",
    "        - ...\n",
    "```\n"
   ]
  },
  {
   "cell_type": "markdown",
   "id": "a50a0228",
   "metadata": {},
   "source": [
    "#### Exercise 1\n",
    "\n",
    "Using only absolute paths and `os.path.join` to build those paths, create this file structure and save the correct data into the correct files (you can use Section 2 Exercise 2 as a reference point)."
   ]
  },
  {
   "cell_type": "code",
   "execution_count": null,
   "id": "79114b3a",
   "metadata": {},
   "outputs": [],
   "source": [
    "## Your code here"
   ]
  },
  {
   "cell_type": "code",
   "execution_count": null,
   "id": "2d76f3a8",
   "metadata": {},
   "outputs": [],
   "source": [
    "## Answer\n",
    "\n",
    "os.mkdir('cocktail_data')\n",
    "\n",
    "for cocktail_type in cocktail_data:    \n",
    "    os.mkdir(os.path.join('cocktail_data', cocktail_type))\n",
    "    \n",
    "    for cocktail in cocktail_data[cocktail_type]:\n",
    "        cocktail_filename = cocktail['strDrink'].lower().replace(' ', '_') + '.json'\n",
    "        \n",
    "        path = os.path.join(os.getcwd(), 'cocktail_data', cocktail_type, cocktail_filename)\n",
    "        \n",
    "        with open(path, 'w') as cocktail_file:\n",
    "            cocktail_file.write(json.dumps(cocktail))"
   ]
  },
  {
   "cell_type": "markdown",
   "id": "c3396ff8",
   "metadata": {},
   "source": [
    "### Section 4: pathlib\n",
    "\n",
    "Although the functionality of `os.path` is very nice, it lacks some functionality in case you want to do some more complex operations, such as matching files of a certain structure and navigating hierarchies.\n",
    "\n",
    "In its core, it implements paths as objects, and implements a lot of the operations you can do with paths as methods of that object.\n",
    "\n",
    "Here are some nice features of pathlib:\n",
    "\n",
    "- You can construct paths using the `/` operator in python, like this:\n",
    " - `p = Path('./')`\n",
    " - `q = p / 'sour' / 'gin_sour.json'`\n",
    "- You can open files:\n",
    " - `with q.open() as file_in: json.loads(file_in.read())`\n",
    "- You can use [glob](https://en.wikipedia.org/wiki/Glob_(programming)) style pattern matching:\n",
    " - `q.glob('**/*.json')`\n"
   ]
  },
  {
   "cell_type": "markdown",
   "id": "5a778481",
   "metadata": {},
   "source": [
    "#### Exercise 1\n",
    "\n",
    "Lets say we want to move all of our folders and files we've created in the previous exercise to another destination on your file system, while keeping the structure intact. Choose any location in your file system (on the same drive as your working directory) and move all of our data there. Place all of the files and folders inside a new folder called `cocktail_data`.\n",
    "\n",
    "Finish the code cell below to implement this."
   ]
  },
  {
   "cell_type": "code",
   "execution_count": null,
   "id": "93046b75",
   "metadata": {},
   "outputs": [],
   "source": [
    "destination = pathlib.Path('/') / ___ \n",
    "source = ___\n",
    "\n",
    "source.rename(destination)"
   ]
  },
  {
   "cell_type": "code",
   "execution_count": null,
   "id": "74d547fa",
   "metadata": {},
   "outputs": [],
   "source": [
    "## Answer\n",
    "destination = pathlib.Path('D:/') / 'Documents' / 'cocktail_data'\n",
    "source = pathlib.Path() / 'cocktail_data'\n",
    "\n",
    "source.rename(destination)"
   ]
  },
  {
   "cell_type": "markdown",
   "id": "6cb1d87c",
   "metadata": {},
   "source": [
    "#### Exercise 2\n",
    "\n",
    "Now lets say we want to compile a list of all recipes that are based on gin. We will assume for now that if that's the case, the name of the cocktail will contain the string 'gin'.\n",
    "\n",
    "Use the glob style pattern matching of pathlib to find all the cocktails that satisfy this condition, and collect all these cocktail recipes into a single dictionary. Save this as a json file named `gin_cocktails.json` to the current working directory.\n",
    "\n",
    "Only use pathlib functionality to interact with the file system."
   ]
  },
  {
   "cell_type": "code",
   "execution_count": null,
   "id": "9202679e",
   "metadata": {},
   "outputs": [],
   "source": [
    "## Answer\n",
    "gin_cocktails = {}\n",
    "\n",
    "for f in destination.glob(___):\n",
    "    # load raw data with pathlib\n",
    "    raw_gin_cocktail = ___\n",
    "    \n",
    "    gin_cocktail = json.loads(raw_gin_cocktail)\n",
    "    \n",
    "    # save data to dict under key obtained from the file name (name of the cocktail)\n",
    "    gin_cocktails[___] = gin_cocktail\n",
    "\n",
    "# save data as json in the cwd using pathlib\n",
    "___"
   ]
  },
  {
   "cell_type": "code",
   "execution_count": null,
   "id": "8dd9171d",
   "metadata": {},
   "outputs": [],
   "source": [
    "## Answer\n",
    "gin_cocktails = {}\n",
    "\n",
    "for f in destination.glob('**/*gin*.json'):\n",
    "    raw_gin_cocktail = f.open('r').read()\n",
    "    \n",
    "    gin_cocktail = json.loads(raw_gin_cocktail)\n",
    "    \n",
    "    gin_cocktails[f.name] = gin_cocktail\n",
    "\n",
    "pathlib.Path('gin_cocktails.json').write_text(json.dumps(gin_cocktails))"
   ]
  }
 ],
 "metadata": {
  "kernelspec": {
   "display_name": "Python 3 (ipykernel)",
   "language": "python",
   "name": "python3"
  },
  "language_info": {
   "codemirror_mode": {
    "name": "ipython",
    "version": 3
   },
   "file_extension": ".py",
   "mimetype": "text/x-python",
   "name": "python",
   "nbconvert_exporter": "python",
   "pygments_lexer": "ipython3",
   "version": "3.9.4"
  }
 },
 "nbformat": 4,
 "nbformat_minor": 5
}
