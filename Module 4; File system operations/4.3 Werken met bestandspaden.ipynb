{
 "cells": [
  {
   "cell_type": "markdown",
   "id": "4dae1273",
   "metadata": {},
   "source": [
    "## Section 3: paths\n",
    "\n",
    "Now we want to make the final step in getting all of our data into a nice and clear format, where we want each cocktail to be in its own file. Furthermore, we want all of this data in a seperate folder called `cocktail_data`. Our goal is to achieve the following file structure:\n",
    "\n",
    "```\n",
    "- cocktail_data\n",
    "    - sour\n",
    "        - gin_sour.json\n",
    "        - rum_sour.json\n",
    "        - ...\n",
    "    - fizz\n",
    "        - gin_fizz.json\n",
    "        - royal_fizz.json\n",
    "        - ...\n",
    "    - punch\n",
    "        - wine_punch.json\n",
    "        - aztec_punch.json\n",
    "        - ...\n",
    "    - flip\n",
    "        - porto_flip.json\n",
    "        - brandy_flip.json\n",
    "        - ...\n",
    "```\n"
   ]
  },
  {
   "cell_type": "markdown",
   "id": "a50a0228",
   "metadata": {},
   "source": [
    "#### Exercise 1\n",
    "\n",
    "Using only absolute paths and `os.path.join` to build those paths, create this file structure and save the correct data into the correct files (you can use Section 2 Exercise 2 as a reference point)."
   ]
  },
  {
   "cell_type": "code",
   "execution_count": null,
   "id": "79114b3a",
   "metadata": {},
   "outputs": [],
   "source": [
    "## Your code here\n"
   ]
  }
 ],
 "metadata": {
  "kernelspec": {
   "display_name": "Python 3 (ipykernel)",
   "language": "python",
   "name": "python3"
  },
  "language_info": {
   "codemirror_mode": {
    "name": "ipython",
    "version": 3
   },
   "file_extension": ".py",
   "mimetype": "text/x-python",
   "name": "python",
   "nbconvert_exporter": "python",
   "pygments_lexer": "ipython3",
   "version": "3.9.4"
  }
 },
 "nbformat": 4,
 "nbformat_minor": 5
}
