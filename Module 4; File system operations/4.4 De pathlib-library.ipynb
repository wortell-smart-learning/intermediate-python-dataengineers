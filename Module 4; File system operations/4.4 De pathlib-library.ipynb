{
 "cells": [
  {
   "cell_type": "markdown",
   "id": "c3396ff8",
   "metadata": {},
   "source": [
    "## Section 4: pathlib\n",
    "\n",
    "Although the functionality of `os.path` is very nice, it lacks some functionality in case you want to do some more complex operations, such as matching files of a certain structure and navigating hierarchies.\n",
    "\n",
    "In its core, it implements paths as objects, and implements a lot of the operations you can do with paths as methods of that object.\n",
    "\n",
    "Here are some nice features of pathlib:\n",
    "\n",
    "- You can construct paths using the `/` operator in python, like this:\n",
    " - `p = Path('./')`\n",
    " - `q = p / 'sour' / 'gin_sour.json'`\n",
    "- You can open files:\n",
    " - `with q.open() as file_in: json.loads(file_in.read())`\n",
    "- You can use [glob](https://en.wikipedia.org/wiki/Glob_(programming)) style pattern matching:\n",
    " - `q.glob('**/*.json')`\n"
   ]
  },
  {
   "cell_type": "markdown",
   "id": "5a778481",
   "metadata": {},
   "source": [
    "#### Exercise 1\n",
    "\n",
    "Lets say we want to move all of our folders and files we've created in the previous exercise to another destination on your file system, while keeping the structure intact. Choose any location in your file system (on the same drive as your working directory) and move all of our data there. Place all of the files and folders inside a new folder called `cocktail_data`.\n",
    "\n",
    "Finish the code cell below to implement this."
   ]
  },
  {
   "cell_type": "code",
   "execution_count": null,
   "id": "93046b75",
   "metadata": {},
   "outputs": [],
   "source": [
    "destination = pathlib.Path('/') / ___ \n",
    "source = ___\n",
    "\n",
    "source.rename(destination)"
   ]
  },
  {
   "cell_type": "markdown",
   "id": "6cb1d87c",
   "metadata": {},
   "source": [
    "#### Exercise 2\n",
    "\n",
    "Now lets say we want to compile a list of all recipes that are based on gin. We will assume for now that if that's the case, the name of the cocktail will contain the string 'gin'.\n",
    "\n",
    "Use the glob style pattern matching of pathlib to find all the cocktails that satisfy this condition, and collect all these cocktail recipes into a single dictionary. Save this as a json file named `gin_cocktails.json` to the current working directory.\n",
    "\n",
    "Only use pathlib functionality to interact with the file system."
   ]
  },
  {
   "cell_type": "code",
   "execution_count": null,
   "id": "9202679e",
   "metadata": {},
   "outputs": [],
   "source": [
    "## Answer\n",
    "gin_cocktails = {}\n",
    "\n",
    "for f in destination.glob(___):\n",
    "    # load raw data with pathlib\n",
    "    raw_gin_cocktail = ___\n",
    "    \n",
    "    gin_cocktail = json.loads(raw_gin_cocktail)\n",
    "    \n",
    "    # save data to dict under key obtained from the file name (name of the cocktail)\n",
    "    gin_cocktails[___] = gin_cocktail\n",
    "\n",
    "# save data as json in the cwd using pathlib\n",
    "___"
   ]
  }
 ],
 "metadata": {
  "kernelspec": {
   "display_name": "Python 3 (ipykernel)",
   "language": "python",
   "name": "python3"
  },
  "language_info": {
   "codemirror_mode": {
    "name": "ipython",
    "version": 3
   },
   "file_extension": ".py",
   "mimetype": "text/x-python",
   "name": "python",
   "nbconvert_exporter": "python",
   "pygments_lexer": "ipython3",
   "version": "3.9.4"
  }
 },
 "nbformat": 4,
 "nbformat_minor": 5
}
