{
 "cells": [
  {
   "cell_type": "markdown",
   "id": "5667efa8",
   "metadata": {},
   "source": [
    "# Module 4: File system operations\n",
    "\n",
    "In this module we will explore the interactions between your code and the file system you're working with. We will learn to execute all operations on files you would normally do by hand, such as copying, moving, renaming, creating and deleting files or folders. This will be done in a programmatic way, making sure the implementation is generic and not os-dependant.\n",
    "\n",
    "For most of the excercises a lot of code is already written. This purely serves as a guideline, feel free to remove the code and implement your own solutions."
   ]
  },
  {
   "cell_type": "markdown",
   "id": "b56b9569",
   "metadata": {},
   "source": [
    "### Introduction\n",
    "\n",
    "Good file system operations are key to succesfully working with, storing, and moving files on a system. Using the different libraries available in Python, we can do this in a programmatic way. And what's even better, we can make sure that the implementation is not os-dependant. \n",
    "\n",
    "There are several common operating systems (OS) available, such as Windows, MacOS and Linux. Every OS has its own way of file pathing and structuring directories. For example, Windows uses drives and (double) backslashes: \"C:\\Users\\Bas\" or \"C:]]Users\\\\Bas\". Linux doesn't use drives, and uses forward slashes: \"/home/Bas\". And MacOS is similar to Linux, using forward slashes: \"Users/Bas\".\n",
    "\n",
    "The libraries that we'll be discussing today are able to work with each OS, and thus make your code OS independent. Which is very useful!"
   ]
  },
  {
   "cell_type": "markdown",
   "id": "f25abf6d",
   "metadata": {},
   "source": [
    "Run the following cell to import all necessary libraries."
   ]
  },
  {
   "cell_type": "code",
   "execution_count": null,
   "id": "3ff3d63a",
   "metadata": {},
   "outputs": [],
   "source": [
    "import requests\n",
    "import json\n",
    "import os\n",
    "import sys\n",
    "import pathlib\n",
    "import shutil"
   ]
  },
  {
   "cell_type": "markdown",
   "id": "a3038168",
   "metadata": {},
   "source": [
    "## Section 1: open\n",
    "\n",
    "The built-in [```open```](https://docs.python.org/3/library/functions.html#open) function is used to interact with the content of a file. This could be any file, from human readable JSON data to compiled executables. In most cases, we are dealing with non-compiled data in some text format, containing data or configuration for the program.\n",
    "\n",
    "In this section we will discover how we use the ```open``` function. [Here](https://docs.python.org/3/tutorial/inputoutput.html#reading-and-writing-files) is more reference if needed."
   ]
  },
  {
   "cell_type": "markdown",
   "id": "26c5fc2a",
   "metadata": {},
   "source": [
    "##### Exercise 1\n",
    "We want to have some files in our system to interact with. Of course this file needs some contents, so we're going to use an API to load some JSON data, and save this to the disk.\n",
    "\n",
    "The data we are working with comes from a simple cocktail recipe website, which allows you to get a recipe for a cocktail based on a search term. This will return a list of recipes for all cocktails that match this search term. In this example, we will collect all cocktails that are either a fizz, a sour, or punch.\n",
    "\n",
    "Run the next cell and check out the contents of `cocktail_data` to get an idea of what the data looks like"
   ]
  },
  {
   "cell_type": "code",
   "execution_count": null,
   "id": "5997dfb6",
   "metadata": {},
   "outputs": [],
   "source": [
    "url = \"https://www.thecocktaildb.com/api/json/v1/1/search.php\"\n",
    "\n",
    "cocktails = [\"sour\", \"fizz\", \"punch\"]\n",
    "\n",
    "cocktail_data = {}\n",
    "\n",
    "for cocktail in cocktails:\n",
    "\n",
    "    params = {\"s\": cocktail}\n",
    "\n",
    "    response = requests.get(url=url, params=params)\n",
    "    \n",
    "    cocktail_data[cocktail] = response.json()['drinks']\n",
    "\n",
    "cocktail_data"
   ]
  },
  {
   "cell_type": "markdown",
   "id": "ca1cf58e",
   "metadata": {},
   "source": [
    "As you can see this is a quite large amount of data to read through all at once. We are going to take steps to save this data to the drive in an organized structure.\n",
    "\n",
    "The first step is to simply save this whole response into a JSON file. To do so we can use the `open` function, which allows us to create and open a file.\n",
    "\n",
    "[Find the `open` functionality online](https://www.google.com/search?hl=en&q=python%20open) and fill in the arguments for the function. You can name the file whatever you want. Then, using the `write` method of the opened file object, write the raw json data to the file."
   ]
  },
  {
   "cell_type": "code",
   "execution_count": null,
   "id": "d945b2d7",
   "metadata": {},
   "outputs": [],
   "source": [
    "## Fill in ___\n",
    "\n",
    "with open('cocktails_json.json', 'w') as cocktails_json_file:\n",
    "    raw_cocktail_data = json.dumps(cocktail_data)\n",
    "    \n",
    "    # write raw json data to file\n",
    "    cocktails_json_file.write(raw_cocktail_data)\n",
    "    \n",
    "del cocktail_data"
   ]
  },
  {
   "cell_type": "markdown",
   "id": "233a8fd8",
   "metadata": {},
   "source": [
    "You can see the use of the `with` keyword in this code cell. This keyword allows you to execute certain code within a context, in this case the opening of a file, without worrying about exceptions that might happen in your code. You can also do file I/O using the following structure:\n",
    "\n",
    "```python\n",
    "\n",
    "file = open('filename.txt', 'r')\n",
    "\n",
    "text = file.read()\n",
    "\n",
    "file.close()\n",
    "\n",
    "```\n",
    "\n",
    "If in this code, the `file.read()` line throws an exception, the `file.close()` part is never reached, so the file is not closed properly, which can result in corrupting data. The `with` approach will always take care of this, no matter what happens in the block."
   ]
  },
  {
   "cell_type": "markdown",
   "id": "f9b0eee9",
   "metadata": {},
   "source": [
    "##### Exercise 2\n",
    "\n",
    "Now we've succesfully saved some JSON data to the disk. But lets say we made a mistake in what data we actually want. We also want to include 'flip' cocktails in the data. \n",
    "\n",
    "Run the next cell to get this new cocktail data into `new_cocktail_data`"
   ]
  },
  {
   "cell_type": "code",
   "execution_count": null,
   "id": "3feda115",
   "metadata": {},
   "outputs": [],
   "source": [
    "params = {\"s\": \"flip\"}\n",
    "\n",
    "response = requests.get(url=url, params=params)\n",
    "\n",
    "new_cocktail_data = {'flip': response.json()['drinks']}"
   ]
  },
  {
   "cell_type": "markdown",
   "id": "f8ed823b",
   "metadata": {},
   "source": [
    "We want to add this data to the already existing file. To do so, we need to _change_ the contents of the file. To do so, we need to first _read_ the current contents of the file, then _merge_ the current content with the new content, and then _write_ the result back to that file.\n",
    "\n",
    "This means we have to do two seperate file operations. Fill in the missing parts in the code block below to implement these steps."
   ]
  },
  {
   "cell_type": "code",
   "execution_count": null,
   "id": "e2cec509",
   "metadata": {},
   "outputs": [],
   "source": [
    "## Fill in ___\n",
    "\n",
    "# Open the file in read mode:\n",
    "with open(___) as cocktails_json_file:\n",
    "    # read raw json data:\n",
    "    raw_cocktail_data = ___\n",
    "    \n",
    "    cocktail_data = json.loads(raw_cocktail_data)\n",
    "\n",
    "# update the dictionary with the new data\n",
    "cocktail_data.update(new_cocktail_data)\n",
    "\n",
    "# Open the file in write mode:\n",
    "with open('cocktails.json', 'w') as cocktails_json_file:\n",
    "    raw_cocktail_data = json.dumps(cocktail_data)\n",
    "\n",
    "    # write update json to file\n",
    "    ___"
   ]
  }
 ],
 "metadata": {
  "kernelspec": {
   "display_name": "Python 3 (ipykernel)",
   "language": "python",
   "name": "python3"
  },
  "language_info": {
   "codemirror_mode": {
    "name": "ipython",
    "version": 3
   },
   "file_extension": ".py",
   "mimetype": "text/x-python",
   "name": "python",
   "nbconvert_exporter": "python",
   "pygments_lexer": "ipython3",
   "version": "3.9.4"
  }
 },
 "nbformat": 4,
 "nbformat_minor": 5
}
